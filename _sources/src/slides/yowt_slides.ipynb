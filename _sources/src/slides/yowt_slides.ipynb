{
 "cells": [
  {
   "cell_type": "markdown",
   "id": "ceb1300c",
   "metadata": {
    "collapsed": true,
    "jupyter": {
     "outputs_hidden": true,
     "source_hidden": true
    },
    "slideshow": {
     "slide_type": "skip"
    },
    "tags": [
     "purge-cell"
    ]
   },
   "source": [
    "(sec:slides)=\n",
    "# Slides #\n",
    "\n",
    ":::{admonition} Content format\n",
    ":class: attention\n",
    "This page is written in the [*Markdown Notebook*][mnb] format.\n",
    "While it is intended to be rendered through [RISE] as [reveal.js] slides,\n",
    "it can also be viewed as a Jupyter Book section or a Jupyter Notebook.\n",
    "The code blocks embedded in this page can be executed through Jupyter Notebook\n",
    "via [MyBinder] -- this option is available from the *Launch Menu* that appears\n",
    "after hovering the mouse cursor over the {fa}`rocket` icon shown in the top\n",
    "bar.\n",
    "Alternatively, the code boxes can be executed directly on this page with\n",
    "[Thebe] by activating {fa}`play`&nbsp;*Live Code* from the\n",
    "{fa}`rocket`&nbsp;*Launch Menu*.\n",
    "\n",
    "In addition to this article page and the corresponding Jupyter Notebook,\n",
    "*static* and *interactive* [reveal.js] slides are built from the page source.\n",
    "The static slides can be accessed with this button\n",
    "[![View Slides][slides-badge]][slides-link].\n",
    "To launch the interactive version of the slides (with executable code boxes),\n",
    "first open this page as a Jupyter Notebook through Binder -- either via\n",
    "the {fa}`rocket`&nbsp;*Launch Menu* or using this button\n",
    "[![Open in Binder][binder-badge]][binder-link];\n",
    "next execute all of the code cells (using the *Kernel &rarr; Restart & Run All*\n",
    "Jupyter Notebook menu);\n",
    "then open [RISE] by clicking the {fa}`chart-bar` button located in the top bar\n",
    "of the Jupyter Notebook interface.\n",
    ":::\n",
    "\n",
    ":::{tip}\n",
    "This page includes a number of Python cells holding setup code.\n",
    "You can reveal the content of these cells by clicking the {fa}`plus-circle`\n",
    "buttons, which appear towards the right edge of this page.\n",
    ":::\n",
    "\n",
    "[mnb]: https://jupyterbook.org/file-types/myst-notebooks.html\n",
    "[RISE]: https://rise.readthedocs.io/en/stable/\n",
    "[reveal.js]: https://github.com/hakimel/reveal.js/\n",
    "[mybinder]: https://mybinder.org/\n",
    "[Thebe]: https://jupyterbook.org/interactive/thebe.html\n",
    "[binder-badge]: https://mybinder.org/badge_logo.svg\n",
    "[binder-link]: https://mybinder.org/v2/gh/so-cool/you-only-write-thrice/master?urlpath=tree/src/slides/yowt_slides.md\n",
    "[slides-badge]: https://img.shields.io/badge/view-slides-blue.svg\n",
    "[slides-link]: https://so-cool.github.io/you-only-write-thrice/src/slides/yowt_slides.slides.html"
   ]
  },
  {
   "cell_type": "markdown",
   "id": "f3b5c82f",
   "metadata": {
    "collapsed": false,
    "jupyter": {
     "outputs_hidden": true,
     "source_hidden": false
    },
    "slideshow": {
     "slide_type": "skip"
    },
    "tags": [
     "remove-cell"
    ]
   },
   "source": [
    ":::{note}\n",
    "This Jupyter Notebook is also available as an [article page][bp2], which\n",
    "explains how to launch this content as *static* and *interactive* slides.\n",
    ":::\n",
    "\n",
    "[bp2]: https://so-cool.github.io/you-only-write-thrice/src/slides/yowt_slides.html"
   ]
  },
  {
   "cell_type": "markdown",
   "id": "f1f1ff69",
   "metadata": {
    "slideshow": {
     "slide_type": "slide"
    }
   },
   "source": [
    "<h1 style=\"text-align: center\">You Only Write Thrice</h1>\n",
    "<h2 style=\"text-align: center\">Creating Documents, Computational Notebooks and Presentations From a Single Source</h2>\n",
    "<br><br><br>\n",
    "<img width=\"25%\" style=\"vertical-align:bottom; float:left;\" src=\"../img/slides/uob.svg\">\n",
    "<p style=\"vertical-align:bottom; float:right; font-size: 120%;\"><b>Kacper Sokol</b><br/>and Peter Flach</p>"
   ]
  },
  {
   "cell_type": "markdown",
   "id": "85610859",
   "metadata": {
    "slideshow": {
     "slide_type": "subslide"
    },
    "tags": [
     "remove-cell"
    ]
   },
   "source": [
    "<center>\n",
    "These slides are also available as an\n",
    "<a href=\"https://so-cool.github.io/you-only-write-thrice/src/slides/yowt_slides.html\">article page</a>,\n",
    "which explains how to launch them as a Jupyter Notebook or interactive slides.\n",
    "</center>"
   ]
  },
  {
   "cell_type": "markdown",
   "id": "0ed7bcbf",
   "metadata": {
    "slideshow": {
     "slide_type": "skip"
    }
   },
   "source": [
    "<div style=\"margin-bottom: 3cm;\"></div>"
   ]
  },
  {
   "cell_type": "markdown",
   "id": "a2a74ccc",
   "metadata": {
    "slideshow": {
     "slide_type": "notes"
    },
    "tags": [
     "remove-cell"
    ]
   },
   "source": [
    "Hello Everybody,\n",
    "I'm Kacper and in this talk I'll show you our idea for an end-to-end,\n",
    "transparent publishing workflow, which makes the entire process easier for\n",
    "academics."
   ]
  },
  {
   "cell_type": "code",
   "execution_count": 1,
   "id": "205c1459",
   "metadata": {
    "slideshow": {
     "slide_type": "skip"
    },
    "tags": [
     "hide-input",
     "thebe-init"
    ]
   },
   "outputs": [],
   "source": [
    "%matplotlib widget\n",
    "import ipywidgets as widgets\n",
    "import numpy as np\n",
    "import matplotlib.pyplot as plt\n",
    "\n",
    "from IPython.display import IFrame\n",
    "\n",
    "plt.style.use('seaborn')"
   ]
  },
  {
   "cell_type": "code",
   "execution_count": 2,
   "id": "2c2eb69c",
   "metadata": {
    "slideshow": {
     "slide_type": "skip"
    },
    "tags": [
     "hide-input",
     "thebe-init"
    ]
   },
   "outputs": [],
   "source": [
    "DISTILL = 'https://distill.pub/2019/activation-atlas/'\n",
    "OPEN_REVIEW = 'https://openreview.net/forum?id=i4zpuNRiU4G'\n",
    "YOU_ONLY_WRITE_THRICE = 'https://so-cool.github.io/you-only-write-thrice/'\n",
    "SIMPLY_LOGICAL = 'https://too.simply-logical.space/src/text/2_part_ii/4.2.html'\n",
    "\n",
    "def preview_url(url, height=600):\n",
    "    return IFrame(url, width=800, height=height)  # 1200"
   ]
  },
  {
   "cell_type": "code",
   "execution_count": 3,
   "id": "67b24db3",
   "metadata": {
    "slideshow": {
     "slide_type": "skip"
    },
    "tags": [
     "hide-input",
     "thebe-init"
    ]
   },
   "outputs": [],
   "source": [
    "def interactive_plot():\n",
    "    fig, ax = plt.subplots(figsize=(10, 4))\n",
    "    fig.patch.set_alpha(0)\n",
    "    ax.set_ylim([-4, 4])\n",
    "    ax.grid(True)\n",
    "    x = np.linspace(0, 2 * np.pi, 100)\n",
    "\n",
    "    def my_sine(x, w, amp, phi):\n",
    "        \"\"\"Returns a sine for x with angular frequeny w and amplitude amp.\"\"\"\n",
    "        return amp * np.sin(w * (x - phi))\n",
    "\n",
    "    @widgets.interact(w=(0, 10, 1),\n",
    "                      amp=(0, 4, .1),\n",
    "                      phi=(0, 2 * np.pi + 0.01, 0.01))\n",
    "    def update(w=1.0, amp=1, phi=0):\n",
    "        \"\"\"Removes old lines from plot and plots new one.\"\"\"\n",
    "        [l.remove() for l in ax.lines]\n",
    "        ax.plot(x, my_sine(x, w, amp, phi), color='C0')"
   ]
  },
  {
   "cell_type": "markdown",
   "id": "f32160b1",
   "metadata": {
    "slideshow": {
     "slide_type": "slide"
    }
   },
   "source": [
    "<h2 style=\"text-align: center\">Publishing Process</h2>"
   ]
  },
  {
   "cell_type": "markdown",
   "id": "ad8774cb",
   "metadata": {
    "slideshow": {
     "slide_type": "subslide"
    }
   },
   "source": [
    "<h3>Stagnation</h3>\n",
    "\n",
    "<div style=\"display: block; margin-left: auto; margin-right: auto; width: 100%;\">\n",
    "<div style=\"float: left; width: 45%;\">\n",
    "<img src=\"../img/slides/Origin_of_Species.jpg\" style=\"width:100% margin-left: auto; margin-right: auto;\">\n",
    "</div>\n",
    "<div style=\"float: right; width: 45%;\">\n",
    "<img src=\"../img/slides/kernels.jpg\" style=\"width:100% margin-left: auto; margin-right: auto;\">\n",
    "</div>\n",
    "</div>"
   ]
  },
  {
   "cell_type": "markdown",
   "id": "bc0be9a5",
   "metadata": {
    "slideshow": {
     "slide_type": "skip"
    }
   },
   "source": [
    "<div style=\"margin-bottom: 17cm;\"></div>"
   ]
  },
  {
   "cell_type": "markdown",
   "id": "91838390",
   "metadata": {
    "slideshow": {
     "slide_type": "notes"
    },
    "tags": [
     "remove-cell"
    ]
   },
   "source": [
    "Can you spot a difference between these two publishing formats?\n",
    "The one on the left is a photo of a manuscript -- a physical printout.\n",
    "The one on the right is a screenshot of a PDF.\n",
    "Not much of a difference after all.\n",
    "\n",
    "PDFs are ubiquitous these days.\n",
    "They are easier to distribute and copy,\n",
    "but have the same limitations as paper printouts."
   ]
  },
  {
   "cell_type": "markdown",
   "id": "59fa6a98",
   "metadata": {
    "slideshow": {
     "slide_type": "subslide"
    }
   },
   "source": [
    "<h3>Ideas: distill.pub</h3>"
   ]
  },
  {
   "cell_type": "code",
   "execution_count": 4,
   "id": "df55a949",
   "metadata": {},
   "outputs": [
    {
     "data": {
      "text/html": [
       "\n",
       "<iframe\n",
       "    width=\"800\"\n",
       "    height=\"500\"\n",
       "    src=\"https://distill.pub/2019/activation-atlas/\"\n",
       "    frameborder=\"0\"\n",
       "    allowfullscreen\n",
       "\n",
       "></iframe>\n"
      ],
      "text/plain": [
       "<IPython.lib.display.IFrame at 0x7f741b53a410>"
      ]
     },
     "execution_count": 4,
     "metadata": {},
     "output_type": "execute_result"
    }
   ],
   "source": [
    "preview_url(DISTILL, height=500)"
   ]
  },
  {
   "cell_type": "markdown",
   "id": "906ce5d5",
   "metadata": {
    "slideshow": {
     "slide_type": "subslide"
    }
   },
   "source": [
    "<h3>Ideas: OpenReview</h3>\n",
    "<img width=\"90%\" align=\"middle\" src=\"../img/slides/OPENREVIEW.png\" alt=\"surrogate\" style=\"display: block; margin-left: auto; margin-right: auto;\">"
   ]
  },
  {
   "cell_type": "markdown",
   "id": "aff5a0cb",
   "metadata": {
    "slideshow": {
     "slide_type": "subslide"
    }
   },
   "source": [
    "<h3>Ideas: The Open Journals (The Journal of Open Source Software)</h3>\n",
    "<img width=\"90%\" align=\"middle\" src=\"../img/slides/JOSS_REVIEW.png\" alt=\"surrogate\" style=\"display: block; margin-left: auto; margin-right: auto;\">"
   ]
  },
  {
   "cell_type": "markdown",
   "id": "091c757e",
   "metadata": {
    "slideshow": {
     "slide_type": "subslide"
    }
   },
   "source": [
    "<h3>Issues</h3>\n",
    "\n",
    "* Standalone tools\n",
    "    - Not integrated\n",
    "    - Lack of a dedicated process\n",
    "* Not covering the entire publishing process\n",
    "    - Compose (write / revise)\n",
    "    - Review (comment / rebut)\n",
    "    - Publish (format / version)"
   ]
  },
  {
   "cell_type": "markdown",
   "id": "5ac212e9",
   "metadata": {
    "slideshow": {
     "slide_type": "slide"
    }
   },
   "source": [
    "<h2 style=\"text-align: center\">Format Multiplicity</h2>"
   ]
  },
  {
   "cell_type": "markdown",
   "id": "e2d245ed",
   "metadata": {
    "slideshow": {
     "slide_type": "subslide"
    }
   },
   "source": [
    "<h3>(Conference) Publishing</h3>\n",
    "\n",
    "<br>\n",
    "\n",
    "<div class=\"row\">\n",
    "<div class=\"column\">\n",
    "<ul>\n",
    "<li>Manuscripts</li>\n",
    "<li>Presentations</li>\n",
    "<li>Posters</li>\n",
    "<li>Promotional videos</li>\n",
    "<li>Press releases</li>\n",
    "<li>Blog posts</li>\n",
    "<li>Source code</li>\n",
    "<li>Computational examples</li>\n",
    "<li>...</li>\n",
    "</ul>\n",
    "</div>\n",
    "<div class=\"column fragment\">\n",
    "<ul>\n",
    "<li>Reviews</li>\n",
    "<li>Revisions</li>\n",
    "<li>Versions</li>\n",
    "</ul>\n",
    "</div>\n",
    "</div>"
   ]
  },
  {
   "cell_type": "markdown",
   "id": "db108074",
   "metadata": {
    "slideshow": {
     "slide_type": "subslide"
    }
   },
   "source": [
    "<h3>Source Formats</h3>\n",
    "\n",
    "* $\\LaTeX$ documents and Beamer slides\n",
    "* Microsoft Word / OpenOffice Writer / Google Docs\n",
    "* Microsoft PowerPoint / OpenOffice Impress / Google Slides\n",
    "* Markdown / HTML (and other web technologies such as JavaScript)\n",
    "* Code hosted on Dropbox / GitHub / BitBucket\n",
    "* Jupyter Notebooks / CodaLab documents"
   ]
  },
  {
   "cell_type": "markdown",
   "id": "36ed1ea0",
   "metadata": {
    "slideshow": {
     "slide_type": "fragment"
    }
   },
   "source": [
    "---\n",
    "\n",
    "<center>\n",
    "    <b>Multiple (out-of-sync) copies of the same content in different formats</b>\n",
    "</center>"
   ]
  },
  {
   "cell_type": "markdown",
   "id": "245ce9df",
   "metadata": {
    "slideshow": {
     "slide_type": "slide"
    }
   },
   "source": [
    "<h3>Lowest Common Denominator: Static Outputs and Artefacts</h3>\n",
    "\n",
    "Artefacts *reusability*:\n",
    "* visualisations / figures\n",
    "* tables\n",
    "* code snippets\n",
    "* mathematical typesetting\n",
    "\n",
    "enforces their simplest – often static – type"
   ]
  },
  {
   "cell_type": "markdown",
   "id": "54a150ba",
   "metadata": {
    "slideshow": {
     "slide_type": "slide"
    }
   },
   "source": [
    "<h2 style=\"text-align: center\">Towards Online and Interactive Research Outputs</h2>"
   ]
  },
  {
   "cell_type": "markdown",
   "id": "eb252c7b",
   "metadata": {
    "slideshow": {
     "slide_type": "subslide"
    }
   },
   "source": [
    "<h3>Authoring</h3>\n",
    "\n",
    "<div class=\"row\">\n",
    "<div class=\"column\">\n",
    "<h4>Multiple Entry Points – Single Source</h4>\n",
    "<p>MyST Markdown →</p>\n",
    "<ul>\n",
    "<li><b>Jupyter Notebook</b> – computational narrative</li>\n",
    "<ul>\n",
    "<li>Google Colab</li>\n",
    "<li>MyBinder</li>\n",
    "</ul>\n",
    "<li><b>Reveal.JS</b> – interactive slides</li>\n",
    "<li><b>Jupyter Book</b> – interactive report/document/book</li>\n",
    "</ul>\n",
    "</div>\n",
    "<div class=\"column fragment\">\n",
    "<h4>Version-controlled Environment</h4>\n",
    "<ul>\n",
    "<li>Source versioning and history tracking</li>\n",
    "<li>E.g., <tt>git</tt> or <tt>mercurial</tt></li>\n",
    "</ul>\n",
    "</div>\n",
    "</div>"
   ]
  },
  {
   "cell_type": "markdown",
   "id": "0ffa9c97",
   "metadata": {
    "slideshow": {
     "slide_type": "subslide"
    }
   },
   "source": [
    "<h3>Reviewing</h3>\n",
    "\n",
    "<div class=\"row\">\n",
    "<div class=\"column\">\n",
    "<ul>\n",
    "<li><b>Akin to source code review</b>, e.g., through <em>Issues</em> and <em>Pull Requests</em> infrastructure</li>\n",
    "<li><b>Permanently attached</b> to the document source</li>\n",
    "<ul>\n",
    "<li>Provenance record</li>\n",
    "<li>Resubmission history</li>\n",
    "</ul>\n",
    "<li><b>Conversational</b> review with inline comments and discussions</li>\n",
    "</ul>\n",
    "</div>\n",
    "<div class=\"column\">\n",
    "<img width=\"90%\" align=\"middle\" src=\"../img/slides/review.png\" alt=\"surrogate\" style=\"display: block; margin-left: auto; margin-right: auto;\">\n",
    "</div>\n",
    "</div>"
   ]
  },
  {
   "cell_type": "markdown",
   "id": "b9fcb8c3",
   "metadata": {
    "slideshow": {
     "slide_type": "subslide"
    }
   },
   "source": [
    "<h3>Publishing</h3>\n",
    "\n",
    "* Tag a version\n",
    "* Release to an archiving platform"
   ]
  },
  {
   "cell_type": "markdown",
   "id": "3cf01e59",
   "metadata": {
    "slideshow": {
     "slide_type": "fragment"
    }
   },
   "source": [
    "---\n",
    "\n",
    "**Bibliometrics**\n",
    "* DOI minting (e.g., Zenodo) to support citations\n",
    "* Google Analytics-like dissemination tracking"
   ]
  },
  {
   "cell_type": "markdown",
   "id": "ab3f69f7",
   "metadata": {
    "slideshow": {
     "slide_type": "subslide"
    }
   },
   "source": [
    "<h3>Presenting</h3>\n",
    "\n",
    "* **Three formats**: documents, slides and computational notebooks\n",
    "* Native *interactivity* support\n",
    "* Improved accessibility\n",
    "    - Execute directly **in the browser** – no need to install stuff\n",
    "    - Support for web-enabled **assistive technologies**\n",
    "* Web technologies are the limit"
   ]
  },
  {
   "cell_type": "code",
   "execution_count": 5,
   "id": "4e4af85f",
   "metadata": {
    "slideshow": {
     "slide_type": "subslide"
    }
   },
   "outputs": [
    {
     "data": {
      "application/vnd.jupyter.widget-view+json": {
       "model_id": "9da62d2ed8a24949aed614e2825402ba",
       "version_major": 2,
       "version_minor": 0
      },
      "text/plain": [
       "interactive(children=(IntSlider(value=1, description='w', max=10), FloatSlider(value=1.0, description='amp', m…"
      ]
     },
     "metadata": {},
     "output_type": "display_data"
    },
    {
     "data": {
      "application/vnd.jupyter.widget-view+json": {
       "model_id": "170a94ecd3ab40e7ba29b1fb5b750b6b",
       "version_major": 2,
       "version_minor": 0
      },
      "image/png": "[encoded data removed]",
      "text/html": [
       "\n",
       "<div style=\"display: inline-block;\">\n",
       "    <div class=\"jupyter-widgets widget-label\" style=\"text-align: center;\">\n",
       "        Figure\n",
       "    </div>\n",
       "    <img src='data:image/png;base64,iVBORw0KGgoAAAANSUhEUgAAA+gAAAGQCAYAAAA9TUphAAAAOXRFWHRTb2Z0d2FyZQBNYXRwbG90bGliIHZlcnNpb24zLjUuMywgaHR0cHM6Ly9tYXRwbG90bGliLm9yZy/NK7nSAAAACXBIWXMAAA9hAAAPYQGoP6dpAAA6BUlEQVR4nO3deZCceV7f+Xdm1n3fpaMklc6f1LdaLfUcMAwemMNctmPZBe8Ea7wby/pgIYAAs8QGZtcbYAIGPA5jliMYmGFjgPWAw8YYZmCGGXZm6FbfLakeqaTSUaW677sqM5/9I1M1UqsPXa18Hun9iqh4qvKqb/dXmZWf/P2e3y8TxzGSJEmSJKmyspUuQJIkSZIkGdAlSZIkSUoEA7okSZIkSQlgQJckSZIkKQEM6JIkSZIkJYABXZIkSZKkBDCgS5IkSZKUAAZ0SZIkSZISwIAuSZIkSVICGNAlSZIkSUoAA7okSZIkSQlgQJckSZIkKQEM6JIkSZIkJYABXZIkSZKkBDCgS5IkSZKUAAZ0SZIkSZISwIAuSZIkSVICGNAlSZIkSUoAA7okSZIkSQlgQJckSZIkKQEM6JIkSZIkJYABXZIkSZKkBDCgS5IkSZKUAAZ0SZIkSZISwIAuSZIkSVICGNAlSZIkSUoAA7okSZIkSQlgQJckSZIkKQEM6JIkSZIkJYABXZIkSZKkBDCgS5IkSZKUAAZ0SZIkSZISwIAuSZIkSVICGNAlSZIkSUoAA7okSZIkSQlgQJckSZIkKQEM6JIkSZIkJYABXZIkSZKkBDCgS5IkSZKUAAZ0SZIkSZISwIAuSZIkSVICGNAlSZIkSUoAA7okSZIkSQlgQE+5EMKvhBDiStchSZIkSbo7BvQUCyE8BfxApeuQJEmSJN09A3pKhRCywK8Dn6h0LZIkSZKku2dAT68fAtaA3690IZIkSZKku1dV6QJ0+0IIvcDPAR+8k/vHcRxnMpl7WpMkSZKkVDIYJIgBPZ0+AfxOFEWnQwj9t3vnmZllstnKPw9zuSwtLfUsLKxSKBQrXY5uk/1LN/uXfvYw3exfutm/dLN/N2pvb6x0CbqOAT1lQggfAt4HPHanj1EsxhSLyVn4vVAoks/74phW9i/d7F/62cN0s3/pZv/Szf4piTwHPX0+DvQCl0IIU8CLACGEqRDC91W0MkmSJEnSHXMEPX1+DPjfr/u5D/ga8BQwU4mCJEmSJEl3z4CeMlEUzQKz134OIVSVLx+uWFGSJEmSpLtmQE+5KIou4sqLkiRJkpR6noMuSZIkSVICGNAlSZIkSUoAA7okSZIkSQlgQJckSZIkKQEM6JIkSZIkJYABXZIkSZKkBDCgS5IkSZKUAAZ0SZIkSZISwIAuSZIkSVICGNAlSZIkSUoAA7okSZIkSQlgQJckSZIkKQEM6JIkSZIkJYABXZIkSZKkBDCgS5IkSZKUAAZ0SZIkSZISwIAuSZIkSVICGNAlSZIkSUoAA7okSZIkSQlgQJckSZIkKQEM6JIkSZIkJYABXZIkSZKkBDCgS5IkSZKUAAZ0SZIkSZISwIAuSZIkSVICGNAlSZIkSUoAA7okSZIkSQlQVekCdPtCCE8CnwCeAdaALwE/EkXRWCXrkiRJkiTdOUfQUyaEUAv8BaVQ3gM8BvQC/76CZUmSJEmS7pIBPX0agJ8Bfj6KovUoiiaBz1EK6pIkSZKklHKKe8pEUTQL/Na1n0MIAfhHwB9UqiZJkiRJ0t0zoKdUCGEPcI5SD38D+NlbvW82myGbzbxbpd2yXC57w1HpYv/Szf6lnz1MN/uXbvYv3eyfkiwTx3Gla9AdCiFkgAPA/w2MRVH0D2/lfnEcx5lM5QO6JEmSpIozGCSIAf0BEEJ4L/BVoKd8Tvrbmp5eipMygt7SUs/CwiqFQrHS5eg22b90s3/pZw/Tzf6lm/1LN/t3o/b2xsoHA21xinvKhBD+DqUV249EUXTtFeXaceNWHqNYjCkWk/PBTKFQJJ/3xTGt7F+62b/0s4fpZv/Szf6lm/1TEhnQ0+cFoBX41yGEnwUagX8JfCWKovlKFiZJkiRJunOujJAy5RD+7cBxYAo4BcwD31/JuiRJkiRJd8cR9BSKoug14IOVrkOSJEmSdO84gi5JkiRJUgIY0CVJkiRJSgADuiRJkiRJCWBAlyRJkiQpAQzokiRJkiQlgAFdkiRJkqQEMKBLkiRJkpQABnRJkiRJkhLAgC5JkiRJUgIY0CVJkiRJSgADuiRJkiRJCWBAlyRJkiQpAQzokiRJkiQlgAFdkiRJkqQEMKBLkiRJkpQABnRJkiRJkhLAgC5JkiRJUgIY0CVJkiRJSgADuiRJkiRJCWBAlyRJkiQpAQzokiRJkiQlgAFdkiRJkqQEMKBLkiRJkpQABnRJkiRJkhLAgC5JkiRJUgIY0CVJkiRJSgADuiRJkiRJCVBV6QJ0+0IIe4BfBT4A5IE/A340iqK5CpYlSZIkSboLjqCn038C5oA9wDHgUeCXKlmQJEmSJOnuGNBTJoTQBpwE/kUURUtRFA0Dv0tpNF2SJEmSlFJOcU+Z8jT2f/yGi3cBI/e/GkmSJEnSvWJAT7kQwjPADwPffav3yWYzZLOZd6+oW5TLZW84Kl3sX7rZv/Szh+lm/9LN/qWb/VOSZeI4rnQNukMhhPdTOh/9X0ZR9MlbvV8cx3EmU/mALkmSJKniDAYJ4gh6SoUQvgv4DPDDURT93u3cd2ZmOTEj6C0t9SwsrFIoFCtdjm6T/Us3+5d+9jDd7F+62b90s383am9vrHQJuo4BPYVCCO8Dfg/43iiK/uJ2718sxhSLyZk5USgUyed9cUwr+5du9i/97GG62b90s3/pZv+URJ54kTIhhCrgt4CfupNwLkmSJElKJkfQ0+e9wBHgkyGEN553HqIoulSBmiRJkiRJd8mAnjJRFH0FF3KQJEmSpAeOU9wlSZIkSUoAA7okSZIkSQlgQJckSZIkKQEM6JIkSZIkJYABXZIkSZKkBDCgS5IkSZKUAAZ0SZIkSZISwIAuSZIkSVICGNAlSZIkSUoAA7okSZIkSQlgQJckSZIkKQEM6JIkSZIkJYABXZIkSZKkBDCgS5IkSZKUAAZ0SZIkSZISwIAuSZIkSVICGNAlSZIkSUoAA7okSZIkSQlgQJckSZIkKQEM6JIkSZIkJYABXZIkSZKkBDCgS5IkSZKUAAZ0SZIkSZISwIAuSZIkSVICGNAlSZIkSUoAA7okSZIkSQlgQJckSZIkKQEM6JIkSZIkJYABPaVCCB8JIYyHED5b6VokSZIkSXevqtIF6PaFEH4S+B+Bc5WuRZIkSZJ0bziCnk5rwAlgsNKFSJIkSZLuDUfQUyiKok8ChBAqXYqUCnEcs75ZYHk1z9pGnrWNAmubBdbWC6xvln5e3yiwkS+SLxTZLB9L38fkC0WKxZhiHJcfr/SYcfn7TAaymQy5bIZsNkMulyGXufZ9lpqqLDXVOWqrs9RU5aiuzlJblaOmOkd9bY6Guirqa0tfDbVVVOX87FSSJOlhZEB/CGXLIaLScuUQkjOMpFIl+xfHMUurmywsbzC/vMH8Uvm4vM7C8gZLq5ssr+ZZXt1kaW2T5dVN8oX4vtd5p2qqsjTUVdFUX01zQw3NjTU011fT3FBNS2MNzQ01tDXV0NZUS1tzLbXVudv+HT7/0s8eppv9Szf7l272T0lmQH8IdXQ0kslUPqBf09JSX+kSdBfejf4trWwwNrPC1Nzq1tfk3CrT82tMzq0yM796zwN3VS5DbXWO6qocVVVZqq//ymXJ5bJbI+VQGjXPZDJkgBgoFmMKxZhCoVg6lr/PF4qsbxZZ3yiwvllgY7PwjrVs5ItsLG0wt7QBLL/j7Rvrq+loqaOzpY6O1jq62urpaW+gp72eno4GutvqqXmLEO/zL/3sYbrZv3Szf+lm/5REBvSH0MzMcmJG0Fta6llYWKVQKFa6HN2mu+lfsRgzvbDG+MwKE7Ol8D0xt8rkbOm4spa/7XoyQFNDNa3lEeam+moa66tprK+iqa78/XVTyWtrctRV56irraKuJnffppXHccxmvsj6ZoH1zSKr63lW1vLl4yYr66Xvl9fyLK5ssLSyycLK5tb3K+s3/79ZXi3NErgyvviWv7e1qYau1jq62+rZ1tHA9q5G9u1qp7k2R31NLlEf2unW+BqabvYv3exfutm/G7W3N1a6BF3HgP4QKhZjisXkTPctFIrk8744ptXb9W91Pc/V6WXGplcYm/nG1/jMKvnb+IPY3FBNR3Md7c21dLTU0t5cS1tTLa2NNbQ01tDaWENTQzW57B2G7Jj7+m8wm8lQX1NFfQ20Ndbc1n3zhSKLK5vMLa2XvzaYW/zG97OL68wsrN0U5OeXSqcCnB9ZuOkxG2qr6O2op7ejgR2djWzvbGRHV2kE/o7/n+q+8TU03exfutm/dLN/SiIDuqS7trFZYHR6hZGpJUYmlxmZWmZkconphfVbun9zQzXdbfV0t9VvjfJ2t5ama3c011JddfvnWD+oqnJZ2ptLH1K8nZW1PNMLa0zNl04NmJpfY3p+jYm5VSZmV1m/bqr9ynqeodFFhkZvHIHPZTPl0N7Ajq5GdvU00dfTRHdb/dZUf0mSJN07BvQUCiGslb+tLv/89wCiKKqrVE16eCysbHB5fJGRyWVGZ1Y5d2WWsZkV4neYlFFXk2NbRwPbOhtKx/JXd1s99bW+FN1rDXVVNNQ1saun6abr4jhmeS3PSj7m3KVpxqZXGJ9ZYXSmdLx2fn+hGHN1apmrU8sQTW7dv7Y6R193I309pce/9lVXYx8lSZLuhu+mUsggrvtlfmm9PLK6wKXxRS6PL5YXLntrDbVV7OxuZGd3Ezu7GtnR1cj2zgZaG2s8zzkhMpkMbc217G1vZEd73Q3T+wrFIpNza4xOLXN1epmrUytcnV5mdGqZjfLt1jcLnL+6wPmr35gunwG2dTbQv62ZPdta6N/WzK6eJj98kSRJug2+c5IElKZEXxxbYGh0gYujiwyNLTDzNlPUs5kMu3qb6OtuZGdXE309pWNbk0E8zXLZ7NbshqN0b11eLMZMzK1yZWKJKxNLDJeP0wulCT0xMDq9wuj0Cl87NQ58I7Tv297Cvh0t7NvRSl9Po+e1S5IkvQUDuvQQiuOY8dlVBofnGRyZ5/zVea5OLvNWs9Srq7Ls7mlid28zu3tLxz3bmuntaWF2dtkFVh4C2WxmK7gfP9yzdfnK2iZXJpa4OLbIpbFFLo4tMj6zQsyNof3/e30MKO3x3r+tmX07Wtm3o4UDfa20Nb39+fSSJEkPCwO69BDYzBcZGl3g3PAcg8PznL+6wNLq5pveNpvJ0NfdSP/2FvZub2bv9hZ2dDXetA1ZVZWjoIKGumrC7nbC7vaty1bX81weLwX2obFFLlydZ3KuNNK+kS9ydnies8PzW7fvbqvjYF8bB/paOdjXxvbOBhehkyRJDyUDuvQAWl3Pc/7qPGevzHP2yhwXri685bZmbU01HNjZyoGdrezb0cru3iZqql01XXeuvrbqptC+sLzBhdEFLlyd58LV0qkUq+ulleQn59aYnBvjq+VR9sa6Kg7sbOXQ7jYO725nd2+T0+IlSdJDwYAuPQDWNvKcG55n4NIsA5dnuTS2RPFNllW/dt74wZ2t7C+H8o6WWs8Z17uupbGGpw508dSBLgCKcWmF+MHhec4Nz3NueI6p+dIo+/JanlfOT/PK+WmgtAPAwb42Du9u49DuNvq3NRvYJUnSA8mALqXQxmaB8yPznLk8x8ClWYZGFygUbw7k1VVZ9m1v4dCuUrDZv6PFrbCUCKVTKZro627ig0d3AjC7uM7gyDznrsxxdniOK+NLxMDaRoHXLkzz2oVSYK+tyXGor41H+ts5sqedvp4mp8RLkqQHgu/UpRQoxjGXxxc5NTTD6YuznBuef9Mp6zXV2W+MNO5qo39bC9WeK66UaG+u5fjhnq1F6FbWNjk7PE90eZaBy3NcHl8kjmH9DYG9uaGaI3tKYf1Ifwc9bfWV/M+QJEm6YwZ0KaGm5lc5fXGWU0MznLk0+6aLulXlshzY2cLhcjjZu73lpsXcpLRqqKu+YVr8ylqec8NzDFye5czFWS5PLAGwuLLJc2cmeO7MBFBadO6xvZ08treDw3va3YtdkiSlhu9apITYzBeIrszx2vkZXh+aZnR65abbZDLQv62FR/e2c2RPBwd2tlBd5YJuejg01FXx5IEuniwH9sWVDQYuz3H64gxnLs4yMbcKlBad++JLI3zxpRFy2Qz7d7Tw6L5SYN+zrdnp8JIkKbEM6FIFjc+u8Nr5aV4fmmHg0iwbb7KfeHdbHY/2d/BIfwdH+ttprKuuQKVS8jQ31NwwJX5qbpXTl2bLp4LMsLyWp1CMt7Z1++MvX6C5oZrH9nbyxP5OHt3bQVO9zydJkpQcBnTpPsoXikRX5nh1cJpXzk8xMbt6021qa3I8sqedx/aVAoTn00q3pqutng+01fOBJ3dQLMYMjS1w6sIMr1+c4cLIAsU4ZnFlk6+dGuNrp8bIZGD/zlae2FcK7Lt6mtzRQJIkVZQBXXqXzS+t82p5y6hTF2dY3yjcdJu+7iYe39fB4/s6OdDX6nnk0l3KZjPs39HK/h2tfPc37WVlbZMzl2Z57cI0r56fZm5pgziGweF5Bofn+dyXL9DWVMMT+0vnvB/pb6e22tNHJEnS/WVAl+6xOI4Znlzm5XOTvDw4xdDo4k23qa3J8Wh/B0/s7+TxfZ20N9dWoFLp4dFQV82x0MOx0EMcx1yZWNoK64Mj88QxzC1t8OVXrvLlV65SXZXlyJ52niqf8+5zVJIk3Q8GdOkeuDZ1/eVzU7x8borphbWbbtPTVs8TBzp58kAXh/ra3P5MqpBMJsPu3mZ29zbzHe/tZ2l1k1NDM7xyforXzk+zvJZnM1/k1fOlAM+fR+zpbebowS6OHuqmr7vRqfCSJOldYUCX7tDqep7XLkzz4tlJXrsww+p6/obrMxk41NdWXnW6k20dDb6plxKoqb6aZx/p5dlHeikUiwwOz/PK+WleGZza2k3h0vgil8YX+ZO/GaKrtY6jB7s5erCLg7tayWX9sE2SJN0bBnTpNswvb/DSuUleOjvFmUsz5AvxDdfX1uR4fF8nRw908fj+TleIllIml80SdrcTdrfz337rAcZnV3hlcJqXz01y9so8xThman6Nz5+8wudPXqGxvPXb04e6eXRvh+etS5Kku2JAl97BxNwqL0aTvHh2kvMj88RvuL6tqWZrNC3sbnfquvQA6W1v4MPHG/jw8V0srW7yymDpNJbXh2ZY3yywvJbnq6+P8dXXx6ipzvL43k6eDt08ub+TBrdElCRJt8mALr2Jq1PLvBBN8EI0yeWJpZuu397ZwNOHujl6sJv+7c1knbouPfCa6qt5/+Pbef/j29nMFzh9cZaXzk3y8rkpFlY22dgs8sLZSV44O0kum+HInnaeDqXXidbGmkqXL0mSUsCALlFaef3y+BIvnC2F8mvnnV5v7/YWnj5Umsq6vbOxAlVKSorqqlx5fYkuih+JGRyZ54XyTJvphTUKxZjXh2Z4fWiGT/95xKG+Np453MPTh7pdEV6SJL0lA7oeWnEcc3FskZMDE5yMJpicu3Hl9WuLvB0L3Tx9qJuOlroKVSopybLZDId2tXFoVxvf96EDN33YF8cQXZkjujLH73/+LAd2tnIsdHMsdNPVWl/p8iVJUoIY0PVQKcYxQ1cXOBlNcHJg8qbt0HLZDEf62zlWnr7e4rRUSbchk8mwZ1sze7Y18w8+sJ/R6WVORpO8MDCxdbrM4Mg8gyPz/MFfDbJ3ezPPHO7heOihq82wLknSw86ArgdeHMdcuLrA8+WR8pmF9Ruur8pleGxvJ8dCaaE3F3aSdK9s72zku97XyHe9r5+J2RVeiCY5GU0wNLoIwNDoIkOji/zRF8/Tv62Z44d7eOZwD92GdUmSHkoGdD2Q4jjmwugCz595q1Ce5fF9HTxzuIenDnRRX+tTQdK7q6e9gY+9Zw8fe88epuZXS2F9YILzVxcAuDi2yMWxRf7oS+WwfsSRdUmSHjamEj0wrp1T/vyZCZ4fGGf6DaG8uirLE/s6OXa4myf3G8olVU5Xaz0fObGbj5zYzczCGicHJng+muD8yBvC+hfPs3d7C8cP93D8cA+dra6FIUnSg8yEolS7tvr6cwPjPH9mgqn5G88pr8pleWJ/J8cP9/DE/k5DuaTE6Wip48MndvPha2E9muT5gfGtsD40usDQ6AJ/+MVB9u9s4fjhXo4f7qG73ZF1SZIeNKYVpdLw5BLPnZng+TPjjM+u3nBdVS7D4/tKofxJp69LSpGOljo+fHwXHz6+6xsj69dNgz8/ssD5kQU++5fnCLva+NZndvHonjYaXTtDkqQHgslFqTE2s8Jzp8d5bmCCq1PLN1yXy2Z4dG8HJ470cPRgt6FcUupdP7I+Nb/KyYHSyPq1Beaubd2WycDh3e0cP9LDsUPdNDe4+4QkSWllilGiTc2t8tzABM+dHt/aouiabCbDI/2lN6VPH+p2BEnSA6urtZ6PPrubjz67m4m5VZ4/M87zAxNcHl8ijuHMpVnOXJrlM39+lkf2tvPskV6OHuymoc4/85IkpYl/uVMohLAH+DXgPcAS8Fngp6MoKla0sHtkdnGd5wcmeO7MOBfK0zqvcaRI0sOup62e73hvP9/zzftY3izy+a9d5GunxhidXqEYx7x+YYbXL8xQlRvg8X2dnDjSy1MHuqityVW6dEmS9A4M6On0OeAFYB/QA/wpMA58opJF3Y2FlQ1eGJjgb89McO7KHPEbrj/Y18qJI708E7ppbaqtSI2SlDR9Pc38vQ/s4zveu4eRyWWeGxjnuTMTTMyuki/EvHRuipfOTVFTneXJ/V2cONLLE/s7qK4yrEuSlEQG9JQJITwDPAl8WxRF88B8COETwI+SsoC+vlHgC89d4i+fv8zpoVmK8Y2xfO/2Zk4cKa1W3NHi1kKS9FYymQx9PU309TTx9795H5fGF3nu9ATPDYwzs7DOxmaR58sLztXV5Hj6UDcnjvTwSH8HVblspcuXpIdGHMfMLq7TVF9NTbUflupmBvT0OQZcjKJo9rrLXgRCCKE5iqLFd3qAbDZDNpt51wq8Vb/46RcYuDR7w2W7epp4z6O9PPtILz3tDRWqTLciV35Tn/PNfSrZv/R7ux4e6GvjQF8b3/ftBzk/PM/XT4/z3Olx5pc3WNso8NXXx/jq62M01ldz/HAP73mkl8N72hPxt+Fh4XMw3exfulWifyOTS3z91DhfPz3O+MwKYVcbP/M/PHPffr/Sw4CePp3A7Bsumykfu4B3DOgdHY1kMpV/E3btRXFndyMfONrHNz+1k129zRWuSrerpcW9mNPM/qXfO/Wws6OJE0/spFCMOXVhii+/NMJXX73K4somy6ubfOmlEb700ghtzbV80xM7+OajOzm8p8Owfp/4HEw3+5du73b/RqeW+crLI3zl5REujt64rlJ1TY729sZ39fcrnTJx/MazfZVkIYT/DfgHURQ9c91lB4BzwL4oiobe6TGmp5fiJLzxKhRj4myOmmxMsei/w7TJ5bK0tNSzsLBKofBArE/4ULF/6Xc3PcwXipwamuHrp8Z58ewEq+uFG67vaKnl2Ue28ewjvezd3pyID3UfND4H083+pdu72b/p+TWeOzPO10+NM/SGUJ7NlLYFfs+jvZw40puYxTvb2xt9kU8QR9DTZ5LSKPr1OoG4fN07KhaTEYirqrK0t9czO7tMPu8ft7QqFIr2L8XsX/rdaQ8f7e/g0f4OfuAjh3j1/AzPD4zz8uAUG5tFZhbW+bOvX+LPvn6JnrZ6jh/p4dkjvezsTsYMrAeJz8F0s3/pdq/6N79U3oFoYILB4fkbrssAYXcbx4/0cix003LdDkT+29GbMaCnz0lgdwihK4qiqfJlx4HTURQtvc39JEm6SXVVjmOhm2Ohm/WNAq+cn+JvT4/z2oVp8oWYiblV/vRrl/jTr11ie2cDJ470cuJID9s7nZop6eG1uLLBC9Ekz50ZJ7p88w5E+3e0cLy82HF7szsQ6dYZ0FMmiqKXQgjPA78QQvgxYAfwY8AvV7YySVLa1dbkygG8l5W1PC+dm+Rvz4xz5uIshWLM6PQK//FvhviPfzPErp4mThzp4fiRXnraPA9X0oNvaXWTl85O8tzABGcu3rwD0Z7e5tLr4uEeunxd1B0yoKfTfwP8BjAGLAC/DvxaRSuSJD1QGuqqeP/j23n/49tZWt3khWiC585MMHB5ljiGKxNLXJlY4j/89QX6t5W2xXzmcDddrb4plfTguPZh5fMDE5wamqHwhtNEd3Y1cuJIDyeO9NLb4Q5EunsG9BSKomgY+LuVrkOS9HBoqq/mW57aybc8tZP55Q1ODkzw/Jlxzg3PEwMXxxa5OLbIH35xkH07Wjh+uDSC1NFSV+nSJem2ra7neXlwiufPTPD6UOl0n+v1djRw4nAPJ470sLO7qUJV6kFlQJckSbestbGGDx3r40PH+phdXOfkwATPDYxzfqS0WvGFqwtcuLrAH/zVIPt3tnA89PCMYV1Swq2u53llcIrnByZ47cIM+Tes7t7dVseJ8jnlu3qaXDBT7xoDuiRJuiPtzbV8+/FdfPvxXUzPr3EymuD5gQkuXC2F9fMjC5wfWeCzfzXI/h0tPHO4h2dCD52thnVJlbe6nueFaIKTA5O8en76plDe2VJXmhF0pIf+bW45qfvDgC5Jku5aZ2sdHzmxm4+c2M3U3Cony6sbXxxbBOD81QXOl0fW9+1o4ZnQ4znrku67lbU8rw1N8/LgNC8OTLB5Uyiv5ZnDPRw/3Mve7YZy3X8GdEmSdE91tdXz0Wd389FndzM5t8rJaIKTAxMMjZbC+rVp8H/4xUH2bm/mWOjhWOimt90FliTde8trm7x8boqTAxOcujhz0znlHS21PBNKI+X7trcYylVRBnRJkvSu6W6r52PP7uFjz+7ZGll/fmCCodHSNPih0UWGRhf5f790nl09TTwTujkWetjR5T7rku7cwvIGL56b5IVokoFLszetvt7T0cCxQ908fajLUK5EMaBLkqT74vqR9an5VV6MJjkZTTI4Mg98Y+u2P/7KENs7GzgWunn6UDd7ep1mKumdzSys8cLZUig/NzzHG7Ypp6etnmOHu3nPo9s4emQbc3Mr5PPFN38wqUIM6JIk6b7raq3nwyd28+ETu5ldXOfFs5O8EE0QXSm9qR6dXuE/f/US//mrl+hsqeXooW6OHermYF8b2axhXVLJ1allXjo3yYtnJ7dOo7le6cO+Ho4d6mZ3b2n19aqqrB/6KbEM6JIkqaLam2u3tm67Ni31xbOTnLlYmpY6vbDOF04O84WTwzQ3VPPUgS6OHurmkT3t1FTnKl2+pPuoGMcMjS7w4tlJXjo7xdjMyk232dPbzNOh9KGep8sobQzokiQpMVoaa/jgUzv54FM7WVnL8+r5KV44O8lrF6bZ2CyyuLLJV14d5SuvjlJTneWxvZ0cPdjFkwe6aKqvrnT5kt4Fm/kiA5dnefncFC+dm2RuaeOG6zPAgb5Wjh7s5ljoprvN3SGUXgZ0SZKUSA11Vbzn0W2859FtbGwWODU0wwtnJ3llcIrltTwbm0VePFsabc9mMhzsay2F9YNdrggvpdziygavnp/m5cEpXh+aYX2jcMP1VbkMj/R38PShbp480EVrY02FKpXuLQO6JElKvJrqHEcPdXP0UDeFYpHB4XlePFsaTZuaX6MYx0RX5oiuzPHZvxpkW0cDTx3o4skDnRzoayWXzVb6P0HS24jjmLGZFV4ZLIXyN1vkrb62iif2l2bNPL6vk/pao4wePP6rliRJqZLLZgm72wm72/m+Dx1gZHKZF89N8tK5KS6NlRaJGptZ4b8+d5n/+txlGuuqeHxfJ08c6OSxvZ1OhZcSYjNfJLoyy6uD07xyforJubWbbtPVWsdTB7s4eqCLg7vaqMr5YZsebAZ0SZKUWplMhr6eJvp6mvju9+9ldnGdV85P8cq5KU5fmmUzX2R5Lc/XT4/z9dPjZDKwf2crT+zr5In9nezqaXI1Z+k+mllY4/WhGV4ZnOL0xVnWNws33Wbv9maeOtjN0QNd7Oxu9Dmqh4oBXZIkPTDam2u3Fplb3yxw5tIsrwxO8crgFHNLG8QxDA7PMzg8z+e+fIG2phoe39fJ4/s6eaS/nYY6R9eleylfKHLuyhyvDc3w+oVphieXb7pNXU2OR/d28MT+Tp7Y10lrU20FKpWSwYAuSZIeSLXVOZ460MVTB7qI45grE0u8en6aVy9Mc35knjiGuaWNrVXhs5kM+3a08NjeDh7d28He7S3uuS7dgYnZFU4NzfDahRnOXHrzUfLe9nqePNDFE/s7OeTUdWmLAV2SJD3wMpkMu3ub2d3bzHe+r5+l1U1OX5zh1fPTvHZhmsWVTYpxzODIPIMj8/zJ3wzRWFfFkf4OHtvbwSN72uly6ybpTS2tbjJwaZZTF2c4NTTD1PzN55LXVGU5vKedx/d18ti+DndakN6CAV2SJD10muqrOXGklxNHeinGMZfHF3n9wgyvD81wfmSeQjFmeS3PyYEJTg5MANDdVscj/R0c2dPOkT3tNDe4rZMeThubBc6PzHP60iynL85wcXSR+E1ut72zYesUkkO7Wqmuyt33WqW0MaBLkqSHWjaToX9bC/3bWvjO9/Wzup5n4PIsrw/NcOrCDBNzqwBMzq3x1y9f5a9fvgrArp4mjuxp5/Cedg71tdFQ59sqPZjyhSIXri4wcGmWgcuzDI4skC8Ub7pdU301j/S382h/B4/0d9DZWleBaqV08y+JJEnSdeprqzh6sJujB7sBmJxb5Ux5pPDMpVkWVzYBuDKxxJWJJf7i+StkMrC7t5mwq43Du9s5tKvVBeeUWpv5IkOjC5y9Mkd0ZY5zw3NsbN4cyKtyWQ7tat0K5Lt6m8i64rp0VwzokiRJb6O7rZ7utno+8OQOinHMyOQyZy7OcPrSLNGVOdY3CsQxXBpb5NLYYimwA7t6mzjY18bBvlYO9rXR3uzK1Eqm1fU856/Oc/bKPGevzHHh6puPkOeyGfbuaOHI7tLMkQM7W5y2Lt1jBnRJkqRblM1k2NXTxK6eJj58YjeFYpFLY0tEV2aJLs9x9socaxsFYuDy+BKXx5f4yxeGAehqreNgXysH+to4sqed1lYXydL9F8cx0wtrDI7Mc35kgcGRea6ML1GMbz6LPJvJsGdbE4f3tHNkdzsH+lqpqzE+SO8mn2GSJEl3KJfNsm9HC/t2tPCxZ/dQKBa5PL5EdHmO6PIsgyPzLK/lAZiaX2Nqfo2vnRoHoKGuiv5tLezb0cy+7a3s29FCS6MLz+neWt8scHl8kQtXF7Z2KZhf2njT21ZXZdm3vYVDu9o4tLuN/TtaDOTSfeYzTpIk6R7JZbPs3d7C3u0tfPTZ3RTjmNHpFQaH5zg3PM/g8PzWonMra3lOX5zh9MWZrft3tdaxb0fp/v3bStvC1df6dk23Jl8oMjK5zNDYAhdHFxgaXWRkcvlNR8ehtKjbgZ2t7N9ZCuX921qornI/cqmSfMWXJEl6l2QzGXZ2NbKzq5FveWonAPNL61wYXWBkepVTF6YYurrARr50vu+1UfbnzkxsPUZvRwP925rZ09tcDu1NLkAnNjYLDE8uc3lisXw6xSJXJpbYzN987jhABtjZ3VgO5K0c2NlKT3s9GRd1kxLFgC5JknQftTbVcvxILx9ub2R2dpn1jTzDE8tcGF3gwtV5LlxdYGx6ZWtf6fGZFcZnVvjb0+Nbj9HZUsuunmb6ehpLx+5GetsbyGYNWw+aOI6ZXVzn6tQyw5PLXCkH8tHplbccGYfSv5H+8myOvdua2bOtxa0ApRTwWSpJklRBuWyWPdua2bOtmW89WhplX13Pc2ViiUtji1wcW+TS+CKj08tcy2PTC+tML6zz8uDU1uPUVGXZ3tXIjs4GdnQ1sr2zke2dDfS015PLOm056eI4Zm5pg7GZFa5OLTMyucTw1DIjk8usruff9r7tzbXs7mliz7bmrVDe6noGUioZ0CVJkhKmvraqtFDXrraty9Y3ClyeWGS4vP/6lcklhieWWd8sALCRL25t9Xa9qlyG3vYGtnU20NteCuy97fX0tDfQ1lTjFOf7bHU9z+TcKmMzK4xNrzA2s8JoeZbE2kbhbe+bycC2jgZ295ZOddjd08yu3iZaGgzj0oPCgJ5CIYRngM8CU1EUvafS9UiSpHdfbU2uvK9629ZlxThmam6VKxOlqc9Xp1cYnVpmbGaFQrE03J4vxIxMLTMytXzTY9ZUZ+lpa6C3vZ7O1jo6W+voaikfW+s81/0ObGwWmF1cZ2Zhjcn5NSbnVq/7WmNpdfOWHqezpY6d3Y3s7G6kr6uJnd2lGRHuOy492AzoKRNC+O+BnwdOAe0VLkeSJFVQNpOhp72BnvYGjoXurcsLxSITs6uMTq8wOr3M1allxmZWmZhd2dr2DWBjs8jw5BLDk0tv+vj1tVV0ttTS1lxLW1Ppq72ppvR9+bKm+uqHYuXvQrHI4som80sbLK9vslmc5urEIlPzq8wurDOzuMbMwvotB3AobWvW297Ato56tnU2sK2jgW0dpSDu6v3Sw8lnfvrUAe8B/mfgoxWuRZIkJVAumy2fg94IdN9w3dLqJuOzK0zMrJaOs6XR3amFtZv2x15dzzM8mWd48ubR9+vV1+Zoqq+muaGG5vpqmhpK3zfUVlFfW1U61lVt/Vxfm6O2OkdNdY7qqizZ+zTNfjNfZH2zwNp6nrXNAusbBdY2Cqyu51le22R5Lc/y6mbp+9XSZYur5VC+uslbL8n21hrrquhqq6e7rZ7utrrSsbWe3o56Olrq7tt/u6R0MKCnTBRFvw0QQqh0KZIkKYWa6qtpqm9l/47Wm67bzBeYWVhnamGN6fKWbzMLa8wvrTO3tMHc0voNI/DXrK4XWF0vMDm3dkc11VRlqa7KUlOdo6YqS1UuSy6bIZvN3HDMlVepj4E4Li2sBlAsX1AoxmwWiuQLMfl8sfx96Wtjs7g17f9eyWUztDfX0tFSR0dzLe0ttXQ019FRPna11dHoaQKSboMB/SGULf+hq7RcLnvDUeli/9LN/qWfPUy3pPavqirLzrpqdvY0veVtNjYLzC2tM7u4wfzSOgsrGyyubLL4JseV9Twbm2++L/cNj5kvspEvvmn4v5+qchma6qtprK+mqa50bKyvorWxltamGlobS1/tLXX0bW+luJmneI9Dv959SX3+SWBAT5wQwseBT7/F1T8YRdGn7vZ3dHQ0JmrF1paW+kqXoLtg/9LN/qWfPUy3tPavt+fWb5svFFle3WRlrTyNfHWTlbVN1jcKrG+WvzZuPBYKMYViacR76/tCvDUCnslAhkzpmGHrfU1VrjQSX12VpTqXpera91Wlkfn6utIU+7qa0nT7utpcecp9Nc2N1dRW527zPZKrp6dZWp9/erAZ0BMmiqLPAJ95N3/HzMxyYkbQW1rqWVhYpVB450/XlSz2L93sX/rZw3R7GPtXl4O6xmo6G5M45bvI6vI6q7d464exfw8S+3ej9vbGSpeg6xjQH0LFYpyo6ViFQpF83hfHtLJ/6Wb/0s8eppv9Szf7l272T0nkiReSJEmSJCWAI+gpE0KIgD2UepcNIVxbLjVEUXSpcpVJkiRJku6GAT1loihyfzVJkiRJegA5xV2SJEmSpAQwoEuSJEmSlAAGdEmSJEmSEsCALkmSJElSAhjQJUmSJElKAAO6JEmSJEkJYECXJEmSJCkBDOiSJEmSJCWAAV2SJEmSpAQwoEuSJEmSlAAGdEmSJEmSEsCALkmSJElSAhjQJUmSJElKAAO6JEmSJEkJYECXJEmSJCkBDOiSJEmSJCWAAV2SJEmSpAQwoEuSJEmSlAAGdEmSJEmSEsCALkmSJElSAhjQJUmSJElKAAO6JEmSJEkJYECXJEmSJCkBDOiSJEmSJCWAAV2SJEmSpAQwoEuSJEmSlAAGdEmSJEmSEqCq0gXo9oQQOoFPAB8BqoG/Bn4kiqIrFS1MkiRJknRXHEFPn08BvcBjwEGgBvidShYkSZIkSbp7BvQUCSFkgGHgJ6IomoqiaAb4deCbytdJkiRJklLKKe4pEkVRDPyTN1y8CxgtXydJkiRJSikDeoqFEPqB/xP4qdu5XzabIZut/IB7Lpe94ah0sX/pZv/Szx6mm/1LN/uXbvZPSZaJYwdekySE8HHg029x9Q9GUfSp8u0OA38B/FEURT9+O78jjuM4k6l8QJckSZJUcQaDBDGgp1AI4QTwX4BfjqLo52/3/tPTS3FSRtBbWupZWFilUChWuhzdJvuXbvYv/exhutm/dLN/6Wb/btTe3lj5YKAtTnFPmRDCQeBPKS0U96k7eYxiMaZYTM4HM4VCkXzeF8e0sn/pZv/Szx6mm/1LN/uXbvZPSeSJF+nz74DfvNNwLkmSJElKJkfQUySEsAv4duBbQgg/9oarPxxF0ZcrUJYkSZIk6R4woKdIFEVXcBEHSZIkSXogOcVdkiRJkqQEMKBLkiRJkpQABnRJkiRJkhLAgC5JkiRJUgIY0CVJkiRJSgADuiRJkiRJCWBAlyRJkiQpAQzokiRJkiQlgAFdkiRJkqQEMKBLkiRJkpQABnRJkiRJkhLAgC5JkiRJUgIY0CVJkiRJSgADuiRJkiRJCWBAlyRJkiQpAQzokiRJkiQlgAFdkiRJkqQEMKBLkiRJkpQABnRJkiRJkhLAgC5JkiRJUgIY0CVJkiRJSgADuiRJkiRJCWBAlyRJkiQpAQzokiRJkiQlgAFdkiRJkqQEMKBLkiRJkpQABnRJkiRJkhLAgC5JkiRJUgJUVboA3Z4QQj/wq8AHgBj4W+BHoyg6W8GyJEmSJEl3yRH09PkTYAzYDfQDC8AfVLAeSZIkSdI9YEBPkRBCDfBvgZ+OomgpiqJF4P8BHg0hZCpbnSRJkiTpbjjFPUWiKNoAfvvazyGEXcA/Bf4wiqK4YoVJkiRJku6aAT2lQgjrQA3wx8AP3c59s9kM2WzlB9xzuewNR6WL/Us3+5d+9jDd7F+62b90s39KskwcO/CaJCGEjwOffourfzCKok9dd9s+4JeAPuADURQVb+V3xHEcZzKVD+iSJEmSKs5gkCAG9JQLIWwHrgLHoyg6eSv3mZ5eipMygt7SUs/CwiqFwi19tqAEsX/pZv/Szx6mm/1LN/uXbvbvRu3tjZUPBtriFPcUCSEE4AvAU1EUTZcvvvaqsnmrj1MsxhSLyflgplAoks/74phW9i/d7F/62cN0s3/pZv/Szf4piQzo6TIIzAOfDCH8M6AA/DxwHjhTycIkSZIkSXfHlRFSJIqiAvAdQBMwDFwEtgHfWV7hXZIkSZKUUo6gp0wURZeA76l0HZIkSZKke8sRdEmSJEmSEsCALkmSJElSAhjQJUmSJElKAAO6JEmSJEkJYECXJEmSJCkBDOiSJEmSJCWAAV2SJEmSpAQwoEuSJEmSlAAGdEmSJEmSEsCALkmSJElSAhjQJUmSJElKAAO6JEmSJEkJYECXJEmSJCkBDOiSJEmSJCWAAV2SJEmSpAQwoEuSJEmSlAAGdEmSJEmSEsCALkmSJElSAhjQJUmSJElKAAO6JEmSJEkJYECXJEmSJCkBDOiSJEmSJCWAAV2SJEmSpAQwoEuSJEmSlAAGdEmSJEmSEsCALkmSJElSAhjQJUmSJElKAAO6JEmSJEkJYEBPsRDCj4QQ4hBCf6VrkSRJkiTdHQN6SoUQdgA/Uek6JEmSJEn3hgE9vf4N8OuVLkKSJEmSdG9UVboA3b4QwseAJ4CPA//qdu+fzWbIZjP3vK7blctlbzgqXexfutm/9LOH6Wb/0s3+pZv9U5Jl4jiudA26DSGEeuB14H+JoujzIYQY2BtF0cXKViZJkiRJuhuOoCdMCOHjwKff4uofBA4CJ6Mo+vz9q0qSJEmS9G4zoCdMFEWfAT7zZteFEA4Dvwg8dT9rkiRJkiS9+zzxIl3+O6AVeDWEMBVCmCpf/mII4ScrWJckSZIk6S45gp4uvwL89hsuuwL8XeD0/S9HkiRJknSvuEhcyrlInCRJkiQ9GAzokiRJkiQlgOegS5IkSZKUAAZ0SZIkSZISwIAuSZIkSVICGNAlSZIkSUoAt1lTRYQQ9gC/BrwHWAI+C/x0FEXFihamWxZC+Ajwe8AXoyj6vkrXo1tXfv79KvABIA/8GfCjURTNVbAs3aIQwpPAJ4BngDXgS8CPRFE0Vsm6dPtCCL9C6bmXqXQtunXlHXQ2gOtXWv7NKIp+uEIl6TaFEH4G+OdAC/A14H9yRyQlhSPoqpTPASPAPuDbgL8P/GglC9KtCyH8JPBJ4Fyla9Ed+U/AHLAHOAY8CvxSJQvSrQkh1AJ/QSmU9wCPAb3Av69gWboDIYSngB+odB26YyGKorrrvgznKRFC+GfAx4EPAtuB08CPVbIm6XqOoOu+CyE8AzwJfFsURfPAfAjhE5QC+icqWZtu2RpwAvg3QF2Fa9FtCCG0AScpzVhZApZCCL8L/K8VLUy3qgH4GeBTURTlgckQwucAw0GKhBCywK9T+pv3rypcjvSw+XHgJ6Ioiso/+/dPiWJAVyUcAy5GUTR73WUvAiGE0BxF0WKF6tItiqLokwAhhEqXottUnsb+j99w8S5KM1qUcOXXzd+69nMoPQn/EfAHlapJd+SHKH3Q+fsY0NPqF0II76M0RfoPgR8rf+ipBAsh7AT2Au0hhNOUZiB9EfgnURRNVrQ4qcwp7qqETmD2DZfNlI9d97kW6aFWntHyw8D/VeladOtCCHtCCBvAGeA54GcrXJJuUQihF/g54J9Wuhbdsa8DXwAOAu+ltJ7Or1W0It2qvvLxeymdYvlk+bLfrFhF0hsY0FUpLogjVVgI4f2Uzmf+F1EUfaHS9ejWRVF0CagFAnAI+HRlK9Jt+ATwO1EUna50IbozURS9N4qi34qiaD2KojPATwH/sLxGhJLt2vvPX4yi6GoURcOUPuD87hCCp+wpEQzoqoRJSqPo1+uktBqq04uk+yCE8F3Af6G0gvQnK12Pbl8URXEUReconZP+/SGE7krXpLcXQvgQ8D7g/6h0LbqnLgI5Sgs3Ktmu7XYxd91lFykFd/unRDCgqxJOArtDCNdPZz8OnPb8LendVz5v8veA742i6PcqXY9uXQjh74QQovIiY9dc255yoxI16bZ8nNI5r5dCCFOU1l8hhDAVQnC7yhQIIRwNIfzyGy4+AqwDVytQkm7PMLAAPHXdZf3AJvZPCZGJ4/idbyXdYyGErwOvU9rWYgelkbxfjqLo31W0MN2WEMKngDr3QU+PEEIV8Crwq1EU/Ual69HtCSG0AhGlKe0/CzRS+rClMYqiD1SyNr2zEEI7pZ5d00dpD+ZdwEwURSsVKUy3rLzI2ACldTt+hdJ2lX8M/GUURa4GngLlnYO+B/gIpbD+x0AURdEbF1CVKsKArooIIfQBv0FpD8oFStvN/FwURf6DTIEQwlr52+rycRMgiiLP30q4EMI3A1+mNNpz09Xlc5uVYCGEx4F/S2mrwyXgr4Afj6LIlfhTJoTQDwxFUeS6LCkSQvgA8AvA45ReS38X+Jkoitbe9o5KhPJaAZ8Avp/S+5j/APxzZ3EqKQzokiRJkiQlgOegS5IkSZKUAAZ0SZIkSZISwIAuSZIkSVICGNAlSZIkSUoAA7okSZIkSQlgQJckSZIkKQEM6JIkSZIkJYABXZIkSZKkBDCgS5IkSZKUAAZ0SZIkSZISwIAuSZIkSVICGNAlSZIkSUoAA7okSZIkSQlgQJckSZIkKQEM6JIkSZIkJYABXZIkSZKkBDCgS5IkSZKUAAZ0SZIkSZISwIAuSZIkSVICGNAlSZIkSUoAA7okSZIkSQlgQJckSZIkKQH+f+acGjktfx+YAAAAAElFTkSuQmCC' width=1000.0/>\n",
       "</div>\n"
      ],
      "text/plain": [
       "Canvas(toolbar=Toolbar(toolitems=[('Home', 'Reset original view', 'home', 'home'), ('Back', 'Back to previous …"
      ]
     },
     "metadata": {
      "filenames": {
       "image/png": "/home/runner/work/you-only-write-thrice/you-only-write-thrice/_build/jupyter_execute/src/slides/yowt_slides_29_1.png"
      }
     },
     "output_type": "display_data"
    }
   ],
   "source": [
    "interactive_plot()"
   ]
  },
  {
   "cell_type": "markdown",
   "id": "8f359fb6",
   "metadata": {
    "slideshow": {
     "slide_type": "subslide"
    }
   },
   "source": [
    "<h3>The Way Forward</h3>\n",
    "\n",
    "* Extend the Jupyter Book / Sphinx **plugin ecosystem**\n",
    "  - Support non-mainstream programming languages (SWI Prolog, ProbLog and cplint)\n",
    "  - Linked exercise and solution blocks\n",
    "  - Custom code syntax highlighting\n",
    "* **Bespoke publishing lifecycle platform** (instead of GitHub or BitBucket)\n",
    "* **Compute resources** suitable for hosting and executing the (interactive) content\n",
    "\n",
    "---\n",
    "\n",
    "<img width=\"15%\" style=\"vertical-align:bottom; float:left;\" src=\"../img/slides/tailor.png\">\n",
    "\n",
    "Horizon 2020 ICT-48 European AI excellence centre exploring **new ways of working** and **AI-powered research and collaboration tools**."
   ]
  },
  {
   "cell_type": "markdown",
   "id": "2872cb22",
   "metadata": {
    "slideshow": {
     "slide_type": "slide"
    }
   },
   "source": [
    "<h2 style=\"text-align: center\">Exhibit</h2>"
   ]
  },
  {
   "cell_type": "markdown",
   "id": "3d374333",
   "metadata": {
    "slideshow": {
     "slide_type": "subslide"
    }
   },
   "source": [
    "<h3>Source</h3>\n",
    "\n",
    "> <https://github.com/so-cool/you-only-write-thrice/>\n",
    "\n",
    "<img width=\"90%\" align=\"middle\" src=\"../img/slides/source_code.png\" alt=\"surrogate\" style=\"display: block; margin-left: auto; margin-right: auto;\">"
   ]
  },
  {
   "cell_type": "markdown",
   "id": "5fbbd890",
   "metadata": {
    "slideshow": {
     "slide_type": "subslide"
    }
   },
   "source": [
    "<h3>Preview</h3>\n",
    "\n",
    "> <https://so-cool.github.io/you-only-write-thrice/>"
   ]
  },
  {
   "cell_type": "code",
   "execution_count": 6,
   "id": "85201767",
   "metadata": {
    "slideshow": {
     "slide_type": "-"
    }
   },
   "outputs": [
    {
     "data": {
      "text/html": [
       "\n",
       "<iframe\n",
       "    width=\"800\"\n",
       "    height=\"500\"\n",
       "    src=\"https://so-cool.github.io/you-only-write-thrice/\"\n",
       "    frameborder=\"0\"\n",
       "    allowfullscreen\n",
       "\n",
       "></iframe>\n"
      ],
      "text/plain": [
       "<IPython.lib.display.IFrame at 0x7f741b313d50>"
      ]
     },
     "execution_count": 6,
     "metadata": {},
     "output_type": "execute_result"
    }
   ],
   "source": [
    "preview_url(YOU_ONLY_WRITE_THRICE, height=500)"
   ]
  },
  {
   "cell_type": "markdown",
   "id": "bde2e79c",
   "metadata": {
    "slideshow": {
     "slide_type": "subslide"
    }
   },
   "source": [
    "<h2 style=\"text-align: center; vertical-align: center;\">Thank You!</h2>\n",
    "<br><br><br>\n",
    "<p style=\"text-align: right; vertical-align:bottom; float:right; font-size: 100%;\"><a href=\"K.Sokol@bristol.ac.uk\">K.Sokol@bristol.ac.uk</a></p>"
   ]
  }
 ],
 "metadata": {
  "jupytext": {
   "formats": "md:myst",
   "text_representation": {
    "extension": ".md",
    "format_name": "myst"
   }
  },
  "kernelspec": {
   "display_name": "Python 3",
   "language": "python",
   "name": "python3"
  },
  "language_info": {
   "codemirror_mode": {
    "name": "ipython",
    "version": 3
   },
   "file_extension": ".py",
   "mimetype": "text/x-python",
   "name": "python",
   "nbconvert_exporter": "python",
   "pygments_lexer": "ipython3",
   "version": "3.7.14"
  },
  "rise": {
   "autolaunch": false,
   "start_slideshow_at": "beginning",
   "theme": "solarized",
   "transition": "none"
  },
  "source_map": [
   18,
   66,
   75,
   83,
   91,
   95,
   102,
   118,
   133,
   159,
   163,
   176,
   180,
   191,
   195,
   199,
   204,
   209,
   221,
   225,
   254,
   265,
   273,
   285,
   289,
   316,
   337,
   344,
   352,
   363,
   371,
   388,
   392,
   400,
   406,
   414
  ],
  "widgets": {
   "application/vnd.jupyter.widget-state+json": {
    "state": {
     "000f925e947b4716b80449dfa7bc2f9a": {
      "model_module": "jupyter-matplotlib",
      "model_module_version": "^0.11",
      "model_name": "ToolbarModel",
      "state": {
       "_current_action": "",
       "_dom_classes": [],
       "_model_module": "jupyter-matplotlib",
       "_model_module_version": "^0.11",
       "_model_name": "ToolbarModel",
       "_view_count": null,
       "_view_module": "jupyter-matplotlib",
       "_view_module_version": "^0.11",
       "_view_name": "ToolbarView",
       "button_style": "",
       "collapsed": true,
       "layout": "IPY_MODEL_41e3ffd7689c419198b079de5ddaa53c",
       "orientation": "vertical",
       "toolitems": [
        [
         "Home",
         "Reset original view",
         "home",
         "home"
        ],
        [
         "Back",
         "Back to previous view",
         "arrow-left",
         "back"
        ],
        [
         "Forward",
         "Forward to next view",
         "arrow-right",
         "forward"
        ],
        [
         "Pan",
         "Left button pans, Right button zooms\nx/y fixes axis, CTRL fixes aspect",
         "arrows",
         "pan"
        ],
        [
         "Zoom",
         "Zoom to rectangle\nx/y fixes axis",
         "square-o",
         "zoom"
        ],
        [
         "Download",
         "Download plot",
         "floppy-o",
         "save_figure"
        ]
       ]
      }
     },
     "0753d1fc6e2646238add5e42713fa7a0": {
      "model_module": "@jupyter-widgets/controls",
      "model_module_version": "1.5.0",
      "model_name": "FloatSliderModel",
      "state": {
       "_dom_classes": [],
       "_model_module": "@jupyter-widgets/controls",
       "_model_module_version": "1.5.0",
       "_model_name": "FloatSliderModel",
       "_view_count": null,
       "_view_module": "@jupyter-widgets/controls",
       "_view_module_version": "1.5.0",
       "_view_name": "FloatSliderView",
       "continuous_update": true,
       "description": "amp",
       "description_tooltip": null,
       "disabled": false,
       "layout": "IPY_MODEL_61e325896da04a35bdaaa8e4e6e77205",
       "max": 4.0,
       "min": 0.0,
       "orientation": "horizontal",
       "readout": true,
       "readout_format": ".2f",
       "step": 0.1,
       "style": "IPY_MODEL_413aa9812d874afe8d683c3b942d94ea",
       "value": 1.0
      }
     },
     "170a94ecd3ab40e7ba29b1fb5b750b6b": {
      "model_module": "jupyter-matplotlib",
      "model_module_version": "^0.11",
      "model_name": "MPLCanvasModel",
      "state": {
       "_cursor": "pointer",
       "_data_url": "data:image/png;base64,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",
       "_dom_classes": [],
       "_figure_label": "Figure",
       "_image_mode": "full",
       "_message": "",
       "_model_module": "jupyter-matplotlib",
       "_model_module_version": "^0.11",
       "_model_name": "MPLCanvasModel",
       "_rubberband_height": 0,
       "_rubberband_width": 0,
       "_rubberband_x": 0,
       "_rubberband_y": 0,
       "_size": [
        1000.0,
        400.0
       ],
       "_view_count": null,
       "_view_module": "jupyter-matplotlib",
       "_view_module_version": "^0.11",
       "_view_name": "MPLCanvasView",
       "capture_scroll": false,
       "footer_visible": true,
       "header_visible": true,
       "layout": "IPY_MODEL_1fa50e77a837486193808035fb6d098d",
       "pan_zoom_throttle": 33.0,
       "resizable": true,
       "toolbar": "IPY_MODEL_cfddc029486b4dc69759e46ca8e7b2e0",
       "toolbar_position": "left",
       "toolbar_visible": "fade-in-fade-out"
      }
     },
     "1fa50e77a837486193808035fb6d098d": {
      "model_module": "@jupyter-widgets/base",
      "model_module_version": "1.2.0",
      "model_name": "LayoutModel",
      "state": {
       "_model_module": "@jupyter-widgets/base",
       "_model_module_version": "1.2.0",
       "_model_name": "LayoutModel",
       "_view_count": null,
       "_view_module": "@jupyter-widgets/base",
       "_view_module_version": "1.2.0",
       "_view_name": "LayoutView",
       "align_content": null,
       "align_items": null,
       "align_self": null,
       "border": null,
       "bottom": null,
       "display": null,
       "flex": null,
       "flex_flow": null,
       "grid_area": null,
       "grid_auto_columns": null,
       "grid_auto_flow": null,
       "grid_auto_rows": null,
       "grid_column": null,
       "grid_gap": null,
       "grid_row": null,
       "grid_template_areas": null,
       "grid_template_columns": null,
       "grid_template_rows": null,
       "height": null,
       "justify_content": null,
       "justify_items": null,
       "left": null,
       "margin": null,
       "max_height": null,
       "max_width": null,
       "min_height": null,
       "min_width": null,
       "object_fit": null,
       "object_position": null,
       "order": null,
       "overflow": null,
       "overflow_x": null,
       "overflow_y": null,
       "padding": null,
       "right": null,
       "top": null,
       "visibility": null,
       "width": null
      }
     },
     "2892aefba6b24f99924e7114cd5e6694": {
      "model_module": "@jupyter-widgets/output",
      "model_module_version": "1.0.0",
      "model_name": "OutputModel",
      "state": {
       "_dom_classes": [],
       "_model_module": "@jupyter-widgets/output",
       "_model_module_version": "1.0.0",
       "_model_name": "OutputModel",
       "_view_count": null,
       "_view_module": "@jupyter-widgets/output",
       "_view_module_version": "1.0.0",
       "_view_name": "OutputView",
       "layout": "IPY_MODEL_f883e15bebd84484a0b193da7706d0e0",
       "msg_id": "",
       "outputs": []
      }
     },
     "3d8ed3aaf3b9469997fd1367710483ac": {
      "model_module": "@jupyter-widgets/base",
      "model_module_version": "1.2.0",
      "model_name": "LayoutModel",
      "state": {
       "_model_module": "@jupyter-widgets/base",
       "_model_module_version": "1.2.0",
       "_model_name": "LayoutModel",
       "_view_count": null,
       "_view_module": "@jupyter-widgets/base",
       "_view_module_version": "1.2.0",
       "_view_name": "LayoutView",
       "align_content": null,
       "align_items": null,
       "align_self": null,
       "border": null,
       "bottom": null,
       "display": null,
       "flex": null,
       "flex_flow": null,
       "grid_area": null,
       "grid_auto_columns": null,
       "grid_auto_flow": null,
       "grid_auto_rows": null,
       "grid_column": null,
       "grid_gap": null,
       "grid_row": null,
       "grid_template_areas": null,
       "grid_template_columns": null,
       "grid_template_rows": null,
       "height": null,
       "justify_content": null,
       "justify_items": null,
       "left": null,
       "margin": null,
       "max_height": null,
       "max_width": null,
       "min_height": null,
       "min_width": null,
       "object_fit": null,
       "object_position": null,
       "order": null,
       "overflow": null,
       "overflow_x": null,
       "overflow_y": null,
       "padding": null,
       "right": null,
       "top": null,
       "visibility": null,
       "width": null
      }
     },
     "4134e2c56ef94a578e683bdbe95894cc": {
      "model_module": "@jupyter-widgets/base",
      "model_module_version": "1.2.0",
      "model_name": "LayoutModel",
      "state": {
       "_model_module": "@jupyter-widgets/base",
       "_model_module_version": "1.2.0",
       "_model_name": "LayoutModel",
       "_view_count": null,
       "_view_module": "@jupyter-widgets/base",
       "_view_module_version": "1.2.0",
       "_view_name": "LayoutView",
       "align_content": null,
       "align_items": null,
       "align_self": null,
       "border": null,
       "bottom": null,
       "display": null,
       "flex": null,
       "flex_flow": null,
       "grid_area": null,
       "grid_auto_columns": null,
       "grid_auto_flow": null,
       "grid_auto_rows": null,
       "grid_column": null,
       "grid_gap": null,
       "grid_row": null,
       "grid_template_areas": null,
       "grid_template_columns": null,
       "grid_template_rows": null,
       "height": null,
       "justify_content": null,
       "justify_items": null,
       "left": null,
       "margin": null,
       "max_height": null,
       "max_width": null,
       "min_height": null,
       "min_width": null,
       "object_fit": null,
       "object_position": null,
       "order": null,
       "overflow": null,
       "overflow_x": null,
       "overflow_y": null,
       "padding": null,
       "right": null,
       "top": null,
       "visibility": null,
       "width": null
      }
     },
     "413aa9812d874afe8d683c3b942d94ea": {
      "model_module": "@jupyter-widgets/controls",
      "model_module_version": "1.5.0",
      "model_name": "SliderStyleModel",
      "state": {
       "_model_module": "@jupyter-widgets/controls",
       "_model_module_version": "1.5.0",
       "_model_name": "SliderStyleModel",
       "_view_count": null,
       "_view_module": "@jupyter-widgets/base",
       "_view_module_version": "1.2.0",
       "_view_name": "StyleView",
       "description_width": "",
       "handle_color": null
      }
     },
     "41e3ffd7689c419198b079de5ddaa53c": {
      "model_module": "@jupyter-widgets/base",
      "model_module_version": "1.2.0",
      "model_name": "LayoutModel",
      "state": {
       "_model_module": "@jupyter-widgets/base",
       "_model_module_version": "1.2.0",
       "_model_name": "LayoutModel",
       "_view_count": null,
       "_view_module": "@jupyter-widgets/base",
       "_view_module_version": "1.2.0",
       "_view_name": "LayoutView",
       "align_content": null,
       "align_items": null,
       "align_self": null,
       "border": null,
       "bottom": null,
       "display": null,
       "flex": null,
       "flex_flow": null,
       "grid_area": null,
       "grid_auto_columns": null,
       "grid_auto_flow": null,
       "grid_auto_rows": null,
       "grid_column": null,
       "grid_gap": null,
       "grid_row": null,
       "grid_template_areas": null,
       "grid_template_columns": null,
       "grid_template_rows": null,
       "height": null,
       "justify_content": null,
       "justify_items": null,
       "left": null,
       "margin": null,
       "max_height": null,
       "max_width": null,
       "min_height": null,
       "min_width": null,
       "object_fit": null,
       "object_position": null,
       "order": null,
       "overflow": null,
       "overflow_x": null,
       "overflow_y": null,
       "padding": null,
       "right": null,
       "top": null,
       "visibility": null,
       "width": null
      }
     },
     "50df5759718b4fea9f45f6430e90a301": {
      "model_module": "@jupyter-widgets/controls",
      "model_module_version": "1.5.0",
      "model_name": "SliderStyleModel",
      "state": {
       "_model_module": "@jupyter-widgets/controls",
       "_model_module_version": "1.5.0",
       "_model_name": "SliderStyleModel",
       "_view_count": null,
       "_view_module": "@jupyter-widgets/base",
       "_view_module_version": "1.2.0",
       "_view_name": "StyleView",
       "description_width": "",
       "handle_color": null
      }
     },
     "53360048fed443e0a0d1aa15edade0c4": {
      "model_module": "@jupyter-widgets/controls",
      "model_module_version": "1.5.0",
      "model_name": "SliderStyleModel",
      "state": {
       "_model_module": "@jupyter-widgets/controls",
       "_model_module_version": "1.5.0",
       "_model_name": "SliderStyleModel",
       "_view_count": null,
       "_view_module": "@jupyter-widgets/base",
       "_view_module_version": "1.2.0",
       "_view_name": "StyleView",
       "description_width": "",
       "handle_color": null
      }
     },
     "61e325896da04a35bdaaa8e4e6e77205": {
      "model_module": "@jupyter-widgets/base",
      "model_module_version": "1.2.0",
      "model_name": "LayoutModel",
      "state": {
       "_model_module": "@jupyter-widgets/base",
       "_model_module_version": "1.2.0",
       "_model_name": "LayoutModel",
       "_view_count": null,
       "_view_module": "@jupyter-widgets/base",
       "_view_module_version": "1.2.0",
       "_view_name": "LayoutView",
       "align_content": null,
       "align_items": null,
       "align_self": null,
       "border": null,
       "bottom": null,
       "display": null,
       "flex": null,
       "flex_flow": null,
       "grid_area": null,
       "grid_auto_columns": null,
       "grid_auto_flow": null,
       "grid_auto_rows": null,
       "grid_column": null,
       "grid_gap": null,
       "grid_row": null,
       "grid_template_areas": null,
       "grid_template_columns": null,
       "grid_template_rows": null,
       "height": null,
       "justify_content": null,
       "justify_items": null,
       "left": null,
       "margin": null,
       "max_height": null,
       "max_width": null,
       "min_height": null,
       "min_width": null,
       "object_fit": null,
       "object_position": null,
       "order": null,
       "overflow": null,
       "overflow_x": null,
       "overflow_y": null,
       "padding": null,
       "right": null,
       "top": null,
       "visibility": null,
       "width": null
      }
     },
     "641368a6613e4722b30ba9b10956d88b": {
      "model_module": "@jupyter-widgets/controls",
      "model_module_version": "1.5.0",
      "model_name": "FloatSliderModel",
      "state": {
       "_dom_classes": [],
       "_model_module": "@jupyter-widgets/controls",
       "_model_module_version": "1.5.0",
       "_model_name": "FloatSliderModel",
       "_view_count": null,
       "_view_module": "@jupyter-widgets/controls",
       "_view_module_version": "1.5.0",
       "_view_name": "FloatSliderView",
       "continuous_update": true,
       "description": "phi",
       "description_tooltip": null,
       "disabled": false,
       "layout": "IPY_MODEL_3d8ed3aaf3b9469997fd1367710483ac",
       "max": 6.293185307179586,
       "min": 0.0,
       "orientation": "horizontal",
       "readout": true,
       "readout_format": ".2f",
       "step": 0.01,
       "style": "IPY_MODEL_50df5759718b4fea9f45f6430e90a301",
       "value": 0.0
      }
     },
     "8b9734174f4742e3955780b3303077b2": {
      "model_module": "@jupyter-widgets/base",
      "model_module_version": "1.2.0",
      "model_name": "LayoutModel",
      "state": {
       "_model_module": "@jupyter-widgets/base",
       "_model_module_version": "1.2.0",
       "_model_name": "LayoutModel",
       "_view_count": null,
       "_view_module": "@jupyter-widgets/base",
       "_view_module_version": "1.2.0",
       "_view_name": "LayoutView",
       "align_content": null,
       "align_items": null,
       "align_self": null,
       "border": null,
       "bottom": null,
       "display": null,
       "flex": null,
       "flex_flow": null,
       "grid_area": null,
       "grid_auto_columns": null,
       "grid_auto_flow": null,
       "grid_auto_rows": null,
       "grid_column": null,
       "grid_gap": null,
       "grid_row": null,
       "grid_template_areas": null,
       "grid_template_columns": null,
       "grid_template_rows": null,
       "height": null,
       "justify_content": null,
       "justify_items": null,
       "left": null,
       "margin": null,
       "max_height": null,
       "max_width": null,
       "min_height": null,
       "min_width": null,
       "object_fit": null,
       "object_position": null,
       "order": null,
       "overflow": null,
       "overflow_x": null,
       "overflow_y": null,
       "padding": null,
       "right": null,
       "top": null,
       "visibility": null,
       "width": null
      }
     },
     "9da62d2ed8a24949aed614e2825402ba": {
      "model_module": "@jupyter-widgets/controls",
      "model_module_version": "1.5.0",
      "model_name": "VBoxModel",
      "state": {
       "_dom_classes": [
        "widget-interact"
       ],
       "_model_module": "@jupyter-widgets/controls",
       "_model_module_version": "1.5.0",
       "_model_name": "VBoxModel",
       "_view_count": null,
       "_view_module": "@jupyter-widgets/controls",
       "_view_module_version": "1.5.0",
       "_view_name": "VBoxView",
       "box_style": "",
       "children": [
        "IPY_MODEL_bc79b86e71f641529a093d2d3f43e92e",
        "IPY_MODEL_0753d1fc6e2646238add5e42713fa7a0",
        "IPY_MODEL_641368a6613e4722b30ba9b10956d88b",
        "IPY_MODEL_2892aefba6b24f99924e7114cd5e6694"
       ],
       "layout": "IPY_MODEL_4134e2c56ef94a578e683bdbe95894cc"
      }
     },
     "bc79b86e71f641529a093d2d3f43e92e": {
      "model_module": "@jupyter-widgets/controls",
      "model_module_version": "1.5.0",
      "model_name": "IntSliderModel",
      "state": {
       "_dom_classes": [],
       "_model_module": "@jupyter-widgets/controls",
       "_model_module_version": "1.5.0",
       "_model_name": "IntSliderModel",
       "_view_count": null,
       "_view_module": "@jupyter-widgets/controls",
       "_view_module_version": "1.5.0",
       "_view_name": "IntSliderView",
       "continuous_update": true,
       "description": "w",
       "description_tooltip": null,
       "disabled": false,
       "layout": "IPY_MODEL_e0f2e2d074d149a09c06abdcbb53876f",
       "max": 10,
       "min": 0,
       "orientation": "horizontal",
       "readout": true,
       "readout_format": "d",
       "step": 1,
       "style": "IPY_MODEL_53360048fed443e0a0d1aa15edade0c4",
       "value": 1
      }
     },
     "cfddc029486b4dc69759e46ca8e7b2e0": {
      "model_module": "jupyter-matplotlib",
      "model_module_version": "^0.11",
      "model_name": "ToolbarModel",
      "state": {
       "_current_action": "",
       "_dom_classes": [],
       "_model_module": "jupyter-matplotlib",
       "_model_module_version": "^0.11",
       "_model_name": "ToolbarModel",
       "_view_count": null,
       "_view_module": "jupyter-matplotlib",
       "_view_module_version": "^0.11",
       "_view_name": "ToolbarView",
       "button_style": "",
       "collapsed": true,
       "layout": "IPY_MODEL_8b9734174f4742e3955780b3303077b2",
       "orientation": "vertical",
       "toolitems": [
        [
         "Home",
         "Reset original view",
         "home",
         "home"
        ],
        [
         "Back",
         "Back to previous view",
         "arrow-left",
         "back"
        ],
        [
         "Forward",
         "Forward to next view",
         "arrow-right",
         "forward"
        ],
        [
         "Pan",
         "Left button pans, Right button zooms\nx/y fixes axis, CTRL fixes aspect",
         "arrows",
         "pan"
        ],
        [
         "Zoom",
         "Zoom to rectangle\nx/y fixes axis",
         "square-o",
         "zoom"
        ],
        [
         "Download",
         "Download plot",
         "floppy-o",
         "save_figure"
        ]
       ]
      }
     },
     "e0f2e2d074d149a09c06abdcbb53876f": {
      "model_module": "@jupyter-widgets/base",
      "model_module_version": "1.2.0",
      "model_name": "LayoutModel",
      "state": {
       "_model_module": "@jupyter-widgets/base",
       "_model_module_version": "1.2.0",
       "_model_name": "LayoutModel",
       "_view_count": null,
       "_view_module": "@jupyter-widgets/base",
       "_view_module_version": "1.2.0",
       "_view_name": "LayoutView",
       "align_content": null,
       "align_items": null,
       "align_self": null,
       "border": null,
       "bottom": null,
       "display": null,
       "flex": null,
       "flex_flow": null,
       "grid_area": null,
       "grid_auto_columns": null,
       "grid_auto_flow": null,
       "grid_auto_rows": null,
       "grid_column": null,
       "grid_gap": null,
       "grid_row": null,
       "grid_template_areas": null,
       "grid_template_columns": null,
       "grid_template_rows": null,
       "height": null,
       "justify_content": null,
       "justify_items": null,
       "left": null,
       "margin": null,
       "max_height": null,
       "max_width": null,
       "min_height": null,
       "min_width": null,
       "object_fit": null,
       "object_position": null,
       "order": null,
       "overflow": null,
       "overflow_x": null,
       "overflow_y": null,
       "padding": null,
       "right": null,
       "top": null,
       "visibility": null,
       "width": null
      }
     },
     "f883e15bebd84484a0b193da7706d0e0": {
      "model_module": "@jupyter-widgets/base",
      "model_module_version": "1.2.0",
      "model_name": "LayoutModel",
      "state": {
       "_model_module": "@jupyter-widgets/base",
       "_model_module_version": "1.2.0",
       "_model_name": "LayoutModel",
       "_view_count": null,
       "_view_module": "@jupyter-widgets/base",
       "_view_module_version": "1.2.0",
       "_view_name": "LayoutView",
       "align_content": null,
       "align_items": null,
       "align_self": null,
       "border": null,
       "bottom": null,
       "display": null,
       "flex": null,
       "flex_flow": null,
       "grid_area": null,
       "grid_auto_columns": null,
       "grid_auto_flow": null,
       "grid_auto_rows": null,
       "grid_column": null,
       "grid_gap": null,
       "grid_row": null,
       "grid_template_areas": null,
       "grid_template_columns": null,
       "grid_template_rows": null,
       "height": null,
       "justify_content": null,
       "justify_items": null,
       "left": null,
       "margin": null,
       "max_height": null,
       "max_width": null,
       "min_height": null,
       "min_width": null,
       "object_fit": null,
       "object_position": null,
       "order": null,
       "overflow": null,
       "overflow_x": null,
       "overflow_y": null,
       "padding": null,
       "right": null,
       "top": null,
       "visibility": null,
       "width": null
      }
     }
    },
    "version_major": 2,
    "version_minor": 0
   }
  }
 },
 "nbformat": 4,
 "nbformat_minor": 5
}