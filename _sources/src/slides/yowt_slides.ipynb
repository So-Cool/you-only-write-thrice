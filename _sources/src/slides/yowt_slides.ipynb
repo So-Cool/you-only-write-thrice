{
 "cells": [
  {
   "cell_type": "markdown",
   "id": "ac798627",
   "metadata": {
    "collapsed": true,
    "jupyter": {
     "outputs_hidden": true,
     "source_hidden": true
    },
    "slideshow": {
     "slide_type": "skip"
    },
    "tags": [
     "purge-cell"
    ]
   },
   "source": [
    "(sec:slides)=\n",
    "# Slides #\n",
    "\n",
    ":::{admonition} Content format\n",
    ":class: attention\n",
    "This page is written in the [*Markdown Notebook*][mnb] format.\n",
    "While it is intended to be rendered through [RISE] as [reveal.js] slides,\n",
    "it can also be viewed as a Jupyter Book section or a Jupyter Notebook.\n",
    "The code blocks embedded in this page can be executed through Jupyter Notebook\n",
    "via [MyBinder] -- this option is available from the *Launch Menu* that appears\n",
    "after hovering the mouse cursor over the {fa}`rocket` icon shown in the top\n",
    "bar.\n",
    "Alternatively, the code boxes can be executed directly on this page with\n",
    "[Thebe] by activating {fa}`play`&nbsp;*Live Code* from the\n",
    "{fa}`rocket`&nbsp;*Launch Menu*.\n",
    "\n",
    "In addition to this article page and the corresponding Jupyter Notebook,\n",
    "*static* and *interactive* [reveal.js] slides are built from the page source.\n",
    "The static slides can be accessed with this button\n",
    "[![View Slides][slides-badge]][slides-link].\n",
    "To launch the interactive version of the slides (with executable code boxes),\n",
    "first open this page as a Jupyter Notebook through Binder -- either via\n",
    "the {fa}`rocket`&nbsp;*Launch Menu* or using this button\n",
    "[![Open in Binder][binder-badge]][binder-link];\n",
    "next execute all of the code cells (using the *Kernel &rarr; Restart & Run All*\n",
    "Jupyter Notebook menu);\n",
    "then open [RISE] by clicking the {fa}`chart-bar` button located in the top bar\n",
    "of the Jupyter Notebook interface.\n",
    ":::\n",
    "\n",
    ":::{tip}\n",
    "This page includes a number of Python cells holding setup code.\n",
    "You can reveal the content of these cells by clicking the {fa}`plus-circle`\n",
    "buttons, which appear towards the right edge of this page.\n",
    ":::\n",
    "\n",
    "[mnb]: https://jupyterbook.org/file-types/myst-notebooks.html\n",
    "[RISE]: https://rise.readthedocs.io/en/stable/\n",
    "[reveal.js]: https://github.com/hakimel/reveal.js/\n",
    "[mybinder]: https://mybinder.org/\n",
    "[Thebe]: https://jupyterbook.org/interactive/launchbuttons.html#live-interactive-pages-with-thebelab\n",
    "[binder-badge]: https://mybinder.org/badge_logo.svg\n",
    "[binder-link]: https://mybinder.org/v2/gh/so-cool/you-only-write-thrice/master?urlpath=tree/src/slides/yowt_slides.md\n",
    "[slides-badge]: https://img.shields.io/badge/view-slides-blue.svg\n",
    "[slides-link]: https://so-cool.github.io/you-only-write-thrice/src/slides/yowt_slides.slides.html"
   ]
  },
  {
   "cell_type": "markdown",
   "id": "796942ab",
   "metadata": {
    "collapsed": false,
    "jupyter": {
     "outputs_hidden": true,
     "source_hidden": false
    },
    "slideshow": {
     "slide_type": "skip"
    },
    "tags": [
     "remove-cell"
    ]
   },
   "source": [
    ":::{note}\n",
    "This Jupyter Notebook is also available as an [article page][bp2], which\n",
    "explains how to launch this content as *static* and *interactive* slides.\n",
    ":::\n",
    "\n",
    "[bp2]: https://so-cool.github.io/you-only-write-thrice/src/slides/yowt_slides.html"
   ]
  },
  {
   "cell_type": "markdown",
   "id": "6db4358c",
   "metadata": {
    "slideshow": {
     "slide_type": "slide"
    }
   },
   "source": [
    "<h1 style=\"text-align: center\">You Only Write Thrice</h1>\n",
    "<h2 style=\"text-align: center\">Creating Documents, Computational Notebooks and Presentations From a Single Source</h2>\n",
    "<br><br><br>\n",
    "<img width=\"25%\" style=\"vertical-align:bottom; float:left;\" src=\"../img/slides/uob.svg\">\n",
    "<p style=\"vertical-align:bottom; float:right; font-size: 120%;\"><b>Kacper Sokol</b><br/>and Peter Flach</p>"
   ]
  },
  {
   "cell_type": "markdown",
   "id": "26ac5553",
   "metadata": {
    "slideshow": {
     "slide_type": "subslide"
    },
    "tags": [
     "remove-cell"
    ]
   },
   "source": [
    "<center>\n",
    "These slides are also available as an\n",
    "<a href=\"https://so-cool.github.io/you-only-write-thrice/src/slides/yowt_slides.html\">article page</a>,\n",
    "which explains how to launch them as a Jupyter Notebook or interactive slides.\n",
    "</center>"
   ]
  },
  {
   "cell_type": "markdown",
   "id": "9b5404b6",
   "metadata": {
    "slideshow": {
     "slide_type": "skip"
    }
   },
   "source": [
    "<div style=\"margin-bottom: 3cm;\"></div>"
   ]
  },
  {
   "cell_type": "markdown",
   "id": "7afa2111",
   "metadata": {
    "slideshow": {
     "slide_type": "notes"
    },
    "tags": [
     "remove-cell"
    ]
   },
   "source": [
    "Hello Everybody,\n",
    "I'm Kacper and in this talk I'll show you our idea for an end-to-end,\n",
    "transparent publishing workflow, which makes the entire process easier for\n",
    "academics."
   ]
  },
  {
   "cell_type": "code",
   "execution_count": 1,
   "id": "0d385390",
   "metadata": {
    "slideshow": {
     "slide_type": "skip"
    },
    "tags": [
     "hide-input",
     "thebe-init"
    ]
   },
   "outputs": [],
   "source": [
    "%matplotlib widget\n",
    "import ipywidgets as widgets\n",
    "import numpy as np\n",
    "import matplotlib.pyplot as plt\n",
    "\n",
    "from IPython.display import IFrame\n",
    "\n",
    "plt.style.use('seaborn')"
   ]
  },
  {
   "cell_type": "code",
   "execution_count": 2,
   "id": "81266852",
   "metadata": {
    "slideshow": {
     "slide_type": "skip"
    },
    "tags": [
     "hide-input",
     "thebe-init"
    ]
   },
   "outputs": [],
   "source": [
    "DISTILL = 'https://distill.pub/2019/activation-atlas/'\n",
    "OPEN_REVIEW = 'https://openreview.net/forum?id=i4zpuNRiU4G'\n",
    "YOU_ONLY_WRITE_THRICE = 'https://so-cool.github.io/you-only-write-thrice/'\n",
    "SIMPLY_LOGICAL = 'https://too.simply-logical.space/src/text/2_part_ii/4.2.html'\n",
    "\n",
    "def preview_url(url, height=600):\n",
    "    return IFrame(url, width=800, height=height)  # 1200"
   ]
  },
  {
   "cell_type": "code",
   "execution_count": 3,
   "id": "9c568cd3",
   "metadata": {
    "slideshow": {
     "slide_type": "skip"
    },
    "tags": [
     "hide-input",
     "thebe-init"
    ]
   },
   "outputs": [],
   "source": [
    "def interactive_plot():\n",
    "    fig, ax = plt.subplots(figsize=(10, 4))\n",
    "    fig.patch.set_alpha(0)\n",
    "    ax.set_ylim([-4, 4])\n",
    "    ax.grid(True)\n",
    "    x = np.linspace(0, 2 * np.pi, 100)\n",
    "\n",
    "    def my_sine(x, w, amp, phi):\n",
    "        \"\"\"Returns a sine for x with angular frequeny w and amplitude amp.\"\"\"\n",
    "        return amp * np.sin(w * (x - phi))\n",
    "\n",
    "    @widgets.interact(w=(0, 10, 1),\n",
    "                      amp=(0, 4, .1),\n",
    "                      phi=(0, 2 * np.pi + 0.01, 0.01))\n",
    "    def update(w=1.0, amp=1, phi=0):\n",
    "        \"\"\"Removes old lines from plot and plots new one.\"\"\"\n",
    "        [l.remove() for l in ax.lines]\n",
    "        ax.plot(x, my_sine(x, w, amp, phi), color='C0')"
   ]
  },
  {
   "cell_type": "markdown",
   "id": "8664fbbb",
   "metadata": {
    "slideshow": {
     "slide_type": "slide"
    }
   },
   "source": [
    "<h2 style=\"text-align: center\">Publishing Process</h2>"
   ]
  },
  {
   "cell_type": "markdown",
   "id": "c6569f5f",
   "metadata": {
    "slideshow": {
     "slide_type": "subslide"
    }
   },
   "source": [
    "<h3>Stagnation</h3>\n",
    "\n",
    "<div style=\"display: block; margin-left: auto; margin-right: auto; width: 100%;\">\n",
    "\n",
    "<div style=\"float: left; width: 45%;\">\n",
    "    <img src=\"../img/slides/Origin_of_Species.jpg\" style=\"width:100% margin-left: auto; margin-right: auto;\">\n",
    "</div>\n",
    "\n",
    "<div style=\"float: right; width: 45%;\">\n",
    "    <img src=\"../img/slides/kernels.jpg\" style=\"width:100% margin-left: auto; margin-right: auto;\">\n",
    "</div>\n",
    "\n",
    "</div>"
   ]
  },
  {
   "cell_type": "markdown",
   "id": "77b41e80",
   "metadata": {
    "slideshow": {
     "slide_type": "skip"
    }
   },
   "source": [
    "<div style=\"margin-bottom: 17cm;\"></div>"
   ]
  },
  {
   "cell_type": "markdown",
   "id": "8ba7b185",
   "metadata": {
    "slideshow": {
     "slide_type": "notes"
    },
    "tags": [
     "remove-cell"
    ]
   },
   "source": [
    "Can you spot a difference between these two publishing formats?\n",
    "The one on the left is a photo of a manuscript -- a physical printout.\n",
    "The one on the right is a screenshot of a PDF.\n",
    "Not much of a difference after all.\n",
    "\n",
    "PDFs are ubiquitous these days.\n",
    "They are easier to distribute and copy,\n",
    "but have the same limitations as paper printouts."
   ]
  },
  {
   "cell_type": "markdown",
   "id": "bf8ef8b0",
   "metadata": {
    "slideshow": {
     "slide_type": "subslide"
    }
   },
   "source": [
    "<h3>Ideas: distill.pub</h3>"
   ]
  },
  {
   "cell_type": "code",
   "execution_count": 4,
   "id": "74dd3755",
   "metadata": {},
   "outputs": [
    {
     "data": {
      "text/html": [
       "\n",
       "<iframe\n",
       "    width=\"800\"\n",
       "    height=\"500\"\n",
       "    src=\"https://distill.pub/2019/activation-atlas/\"\n",
       "    frameborder=\"0\"\n",
       "    allowfullscreen\n",
       "></iframe>\n"
      ],
      "text/plain": [
       "<IPython.lib.display.IFrame at 0x7f129ef876d0>"
      ]
     },
     "execution_count": 4,
     "metadata": {},
     "output_type": "execute_result"
    }
   ],
   "source": [
    "preview_url(DISTILL, height=500)"
   ]
  },
  {
   "cell_type": "markdown",
   "id": "b7821d71",
   "metadata": {
    "slideshow": {
     "slide_type": "subslide"
    }
   },
   "source": [
    "<h3>Ideas: OpenReview</h3>\n",
    "<img width=\"90%\" align=\"middle\" src=\"../img/slides/OPENREVIEW.png\" alt=\"surrogate\" style=\"display: block; margin-left: auto; margin-right: auto;\">"
   ]
  },
  {
   "cell_type": "markdown",
   "id": "94f9d576",
   "metadata": {
    "slideshow": {
     "slide_type": "subslide"
    }
   },
   "source": [
    "<h3>Ideas: The Open Journals (The Journal of Open Source Software)</h3>\n",
    "<img width=\"90%\" align=\"middle\" src=\"../img/slides/JOSS_REVIEW.png\" alt=\"surrogate\" style=\"display: block; margin-left: auto; margin-right: auto;\">"
   ]
  },
  {
   "cell_type": "markdown",
   "id": "f9ecd0cf",
   "metadata": {
    "slideshow": {
     "slide_type": "subslide"
    }
   },
   "source": [
    "<h3>Issues</h3>\n",
    "\n",
    "* Standalone tools\n",
    "    - Not integrated\n",
    "    - Lack of a dedicated process\n",
    "* Not covering the entire publishing process\n",
    "    - Compose (write / revise)\n",
    "    - Review (comment / rebut)\n",
    "    - Publish (format / version)"
   ]
  },
  {
   "cell_type": "markdown",
   "id": "3db24a4f",
   "metadata": {
    "slideshow": {
     "slide_type": "slide"
    }
   },
   "source": [
    "<h2 style=\"text-align: center\">Format Multiplicity</h2>"
   ]
  },
  {
   "cell_type": "markdown",
   "id": "28bfd45a",
   "metadata": {
    "slideshow": {
     "slide_type": "subslide"
    }
   },
   "source": [
    "<h3>(Conference) Publishing</h3>\n",
    "\n",
    "<br>\n",
    "\n",
    "<div class=\"row\">\n",
    "<div class=\"column\">\n",
    "\n",
    "* Manuscripts\n",
    "* Presentations\n",
    "* Posters\n",
    "* Promotional videos\n",
    "* Press releases\n",
    "* Blog posts\n",
    "* Source code\n",
    "* Computational examples\n",
    "* ...\n",
    "\n",
    "</div>\n",
    "<div class=\"column fragment\">\n",
    "\n",
    "* Reviews\n",
    "* Revisions\n",
    "* Versions\n",
    "\n",
    "</div>\n",
    "</div>"
   ]
  },
  {
   "cell_type": "markdown",
   "id": "e9cbd48e",
   "metadata": {
    "slideshow": {
     "slide_type": "subslide"
    }
   },
   "source": [
    "<h3>Source Formats</h3>\n",
    "\n",
    "* $\\LaTeX$ documents and Beamer slides\n",
    "* Microsoft Word / OpenOffice Writer / Google Docs\n",
    "* Microsoft PowerPoint / OpenOffice Impress / Google Slides\n",
    "* Markdown / HTML (and other web technologies such as JavaScript)\n",
    "* Code hosted on Dropbox / GitHub / BitBucket\n",
    "* Jupyter Notebooks / CodaLab documents"
   ]
  },
  {
   "cell_type": "markdown",
   "id": "b3d49ee9",
   "metadata": {
    "slideshow": {
     "slide_type": "fragment"
    }
   },
   "source": [
    "---\n",
    "\n",
    "<center>\n",
    "    <b>Multiple (out-of-sync) copies of the same content in different formats</b>\n",
    "</center>"
   ]
  },
  {
   "cell_type": "markdown",
   "id": "af93ff14",
   "metadata": {
    "slideshow": {
     "slide_type": "slide"
    }
   },
   "source": [
    "<h3>Lowest Common Denominator: Static Outputs and Artefacts</h3>\n",
    "\n",
    "Artefacts *reusability*:\n",
    "* visualisations / figures\n",
    "* tables\n",
    "* code snippets\n",
    "* mathematical typesetting\n",
    "\n",
    "enforces their simplest – often static – type"
   ]
  },
  {
   "cell_type": "markdown",
   "id": "b0d8281d",
   "metadata": {
    "slideshow": {
     "slide_type": "slide"
    }
   },
   "source": [
    "<h2 style=\"text-align: center\">Towards Online and Interactive Research Outputs</h2>"
   ]
  },
  {
   "cell_type": "markdown",
   "id": "b9a66dc4",
   "metadata": {
    "slideshow": {
     "slide_type": "subslide"
    }
   },
   "source": [
    "<h3>Authoring</h3>\n",
    "\n",
    "<div class=\"row\">\n",
    "<div class=\"column\">\n",
    "\n",
    "<h4>Multiple Entry Points – Single Source</h4>\n",
    "\n",
    "MyST Markdown →\n",
    "  * **Jupyter Notebook** – computational narrative\n",
    "    - Google Colab\n",
    "    - MyBinder\n",
    "  * **Reveal.JS** – interactive slides\n",
    "  * **Jupyter Book** – interactive report/document/book\n",
    "\n",
    "</div>\n",
    "<div class=\"column fragment\">\n",
    "\n",
    "<h4>Version-controlled Environment</h4>\n",
    "\n",
    "* Source versioning and history tracking\n",
    "* E.g., `git` or `mercurial`\n",
    "\n",
    "</div>\n",
    "</div>"
   ]
  },
  {
   "cell_type": "markdown",
   "id": "1f57e544",
   "metadata": {
    "slideshow": {
     "slide_type": "subslide"
    }
   },
   "source": [
    "<h3>Reviewing</h3>\n",
    "\n",
    "<div class=\"row\">\n",
    "<div class=\"column\">\n",
    "\n",
    "* **Akin to source code review**, e.g., through *Issues* and *Pull Requests*\n",
    "  infrastructure\n",
    "* **Permanently attached** to the document source\n",
    "    - Provenance record\n",
    "    - Resubmission history\n",
    "* **Conversational** review with inline comments and discussions\n",
    "\n",
    "</div>\n",
    "<div class=\"column\">\n",
    "\n",
    "<img width=\"90%\" align=\"middle\" src=\"../img/slides/review.png\" alt=\"surrogate\" style=\"display: block; margin-left: auto; margin-right: auto;\">\n",
    "\n",
    "</div>\n",
    "</div>"
   ]
  },
  {
   "cell_type": "markdown",
   "id": "8a41f9ff",
   "metadata": {
    "slideshow": {
     "slide_type": "subslide"
    }
   },
   "source": [
    "<h3>Publishing</h3>\n",
    "\n",
    "* Tag a version\n",
    "* Release to an archiving platform"
   ]
  },
  {
   "cell_type": "markdown",
   "id": "00bd6231",
   "metadata": {
    "slideshow": {
     "slide_type": "fragment"
    }
   },
   "source": [
    "---\n",
    "\n",
    "**Bibliometrics**\n",
    "* DOI minting (e.g., Zenodo) to support citations\n",
    "* Google Analytics-like dissemination tracking"
   ]
  },
  {
   "cell_type": "markdown",
   "id": "76bd8196",
   "metadata": {
    "slideshow": {
     "slide_type": "subslide"
    }
   },
   "source": [
    "<h3>Presenting</h3>\n",
    "\n",
    "* **Three formats**: documents, slides and computational notebooks\n",
    "* Native *interactivity* support\n",
    "* Improved accessibility\n",
    "    - Execute directly **in the browser** – no need to install stuff\n",
    "    - Support for web-enabled **assistive technologies**\n",
    "* Web technologies are the limit"
   ]
  },
  {
   "cell_type": "code",
   "execution_count": 5,
   "id": "645faf12",
   "metadata": {
    "slideshow": {
     "slide_type": "subslide"
    }
   },
   "outputs": [
    {
     "data": {
      "application/vnd.jupyter.widget-view+json": {
       "model_id": "c477d5162f244cc7a9faa500f6aff1b5",
       "version_major": 2,
       "version_minor": 0
      },
      "text/plain": [
       "Canvas(toolbar=Toolbar(toolitems=[('Home', 'Reset original view', 'home', 'home'), ('Back', 'Back to previous …"
      ]
     },
     "metadata": {},
     "output_type": "display_data"
    },
    {
     "data": {
      "application/vnd.jupyter.widget-view+json": {
       "model_id": "cadcf32d23f547d8bf55f197db8d475a",
       "version_major": 2,
       "version_minor": 0
      },
      "text/plain": [
       "interactive(children=(IntSlider(value=1, description='w', max=10), FloatSlider(value=1.0, description='amp', m…"
      ]
     },
     "metadata": {},
     "output_type": "display_data"
    }
   ],
   "source": [
    "interactive_plot()"
   ]
  },
  {
   "cell_type": "markdown",
   "id": "80d026e6",
   "metadata": {
    "slideshow": {
     "slide_type": "subslide"
    }
   },
   "source": [
    "<h3>The Way Forward</h3>\n",
    "\n",
    "* Extend the Jupyter Book / Sphinx **plugin ecosystem**\n",
    "  - Support non-mainstream programming languages (SWI Prolog, ProbLog and cplint)\n",
    "  - Linked exercise and solution blocks\n",
    "  - Custom code syntax highlighting\n",
    "* **Bespoke publishing lifecycle platform** (instead of GitHub or BitBucket)\n",
    "* **Compute resources** suitable for hosting and executing the (interactive) content\n",
    "\n",
    "---\n",
    "\n",
    "<img width=\"15%\" style=\"vertical-align:bottom; float:left;\" src=\"../img/slides/tailor.png\">\n",
    "\n",
    "Horizon 2020 ICT-48 European AI excellence centre exploring **new ways of working** and **AI-powered research and collaboration tools**."
   ]
  },
  {
   "cell_type": "markdown",
   "id": "f87f9e62",
   "metadata": {
    "slideshow": {
     "slide_type": "slide"
    }
   },
   "source": [
    "<h2 style=\"text-align: center\">Exhibit</h2>"
   ]
  },
  {
   "cell_type": "markdown",
   "id": "000f7f59",
   "metadata": {
    "slideshow": {
     "slide_type": "subslide"
    }
   },
   "source": [
    "<h3>Source</h3>\n",
    "\n",
    "> <https://github.com/so-cool/you-only-write-thrice/>\n",
    "\n",
    "<img width=\"90%\" align=\"middle\" src=\"../img/slides/source_code.png\" alt=\"surrogate\" style=\"display: block; margin-left: auto; margin-right: auto;\">"
   ]
  },
  {
   "cell_type": "markdown",
   "id": "9c69c4e3",
   "metadata": {
    "slideshow": {
     "slide_type": "subslide"
    }
   },
   "source": [
    "<h3>Preview</h3>\n",
    "\n",
    "> <https://so-cool.github.io/you-only-write-thrice/>"
   ]
  },
  {
   "cell_type": "code",
   "execution_count": 6,
   "id": "ae6cf782",
   "metadata": {
    "slideshow": {
     "slide_type": "-"
    }
   },
   "outputs": [
    {
     "data": {
      "text/html": [
       "\n",
       "<iframe\n",
       "    width=\"800\"\n",
       "    height=\"500\"\n",
       "    src=\"https://so-cool.github.io/you-only-write-thrice/\"\n",
       "    frameborder=\"0\"\n",
       "    allowfullscreen\n",
       "></iframe>\n"
      ],
      "text/plain": [
       "<IPython.lib.display.IFrame at 0x7f129cf24490>"
      ]
     },
     "execution_count": 6,
     "metadata": {},
     "output_type": "execute_result"
    }
   ],
   "source": [
    "preview_url(YOU_ONLY_WRITE_THRICE, height=500)"
   ]
  },
  {
   "cell_type": "markdown",
   "id": "f607fa4f",
   "metadata": {
    "slideshow": {
     "slide_type": "subslide"
    }
   },
   "source": [
    "<h2 style=\"text-align: center; vertical-align: center;\">Thank You!</h2>\n",
    "<br><br><br>\n",
    "<p style=\"text-align: right; vertical-align:bottom; float:right; font-size: 100%;\"><a href=\"K.Sokol@bristol.ac.uk\">K.Sokol@bristol.ac.uk</a></p>"
   ]
  }
 ],
 "metadata": {
  "jupytext": {
   "formats": "md:myst",
   "text_representation": {
    "extension": ".md",
    "format_name": "myst"
   }
  },
  "kernelspec": {
   "display_name": "Python 3",
   "language": "python",
   "name": "python3"
  },
  "language_info": {
   "codemirror_mode": {
    "name": "ipython",
    "version": 3
   },
   "file_extension": ".py",
   "mimetype": "text/x-python",
   "name": "python",
   "nbconvert_exporter": "python",
   "pygments_lexer": "ipython3",
   "version": "3.7.11"
  },
  "rise": {
   "autolaunch": false,
   "start_slideshow_at": "beginning",
   "theme": "solarized",
   "transition": "none"
  },
  "source_map": [
   18,
   66,
   75,
   83,
   91,
   95,
   102,
   118,
   133,
   159,
   163,
   179,
   183,
   194,
   198,
   202,
   207,
   212,
   224,
   228,
   257,
   268,
   276,
   288,
   292,
   319,
   341,
   348,
   356,
   367,
   375,
   392,
   396,
   404,
   410,
   418
  ],
  "widgets": {
   "application/vnd.jupyter.widget-state+json": {
    "state": {
     "258e2ef4a90c42bd89b8ef4385d67b75": {
      "model_module": "@jupyter-widgets/base",
      "model_module_version": "1.2.0",
      "model_name": "LayoutModel",
      "state": {
       "_model_module": "@jupyter-widgets/base",
       "_model_module_version": "1.2.0",
       "_model_name": "LayoutModel",
       "_view_count": null,
       "_view_module": "@jupyter-widgets/base",
       "_view_module_version": "1.2.0",
       "_view_name": "LayoutView",
       "align_content": null,
       "align_items": null,
       "align_self": null,
       "border": null,
       "bottom": null,
       "display": null,
       "flex": null,
       "flex_flow": null,
       "grid_area": null,
       "grid_auto_columns": null,
       "grid_auto_flow": null,
       "grid_auto_rows": null,
       "grid_column": null,
       "grid_gap": null,
       "grid_row": null,
       "grid_template_areas": null,
       "grid_template_columns": null,
       "grid_template_rows": null,
       "height": null,
       "justify_content": null,
       "justify_items": null,
       "left": null,
       "margin": null,
       "max_height": null,
       "max_width": null,
       "min_height": null,
       "min_width": null,
       "object_fit": null,
       "object_position": null,
       "order": null,
       "overflow": null,
       "overflow_x": null,
       "overflow_y": null,
       "padding": null,
       "right": null,
       "top": null,
       "visibility": null,
       "width": null
      }
     },
     "26bbf3b97b7b41e3853673513a08f474": {
      "model_module": "@jupyter-widgets/base",
      "model_module_version": "1.2.0",
      "model_name": "LayoutModel",
      "state": {
       "_model_module": "@jupyter-widgets/base",
       "_model_module_version": "1.2.0",
       "_model_name": "LayoutModel",
       "_view_count": null,
       "_view_module": "@jupyter-widgets/base",
       "_view_module_version": "1.2.0",
       "_view_name": "LayoutView",
       "align_content": null,
       "align_items": null,
       "align_self": null,
       "border": null,
       "bottom": null,
       "display": null,
       "flex": null,
       "flex_flow": null,
       "grid_area": null,
       "grid_auto_columns": null,
       "grid_auto_flow": null,
       "grid_auto_rows": null,
       "grid_column": null,
       "grid_gap": null,
       "grid_row": null,
       "grid_template_areas": null,
       "grid_template_columns": null,
       "grid_template_rows": null,
       "height": null,
       "justify_content": null,
       "justify_items": null,
       "left": null,
       "margin": null,
       "max_height": null,
       "max_width": null,
       "min_height": null,
       "min_width": null,
       "object_fit": null,
       "object_position": null,
       "order": null,
       "overflow": null,
       "overflow_x": null,
       "overflow_y": null,
       "padding": null,
       "right": null,
       "top": null,
       "visibility": null,
       "width": null
      }
     },
     "3879108a017d4bd4941d33a8c05fcf58": {
      "model_module": "@jupyter-widgets/controls",
      "model_module_version": "1.5.0",
      "model_name": "IntSliderModel",
      "state": {
       "_dom_classes": [],
       "_model_module": "@jupyter-widgets/controls",
       "_model_module_version": "1.5.0",
       "_model_name": "IntSliderModel",
       "_view_count": null,
       "_view_module": "@jupyter-widgets/controls",
       "_view_module_version": "1.5.0",
       "_view_name": "IntSliderView",
       "continuous_update": true,
       "description": "w",
       "description_tooltip": null,
       "disabled": false,
       "layout": "IPY_MODEL_ae01bf361ecd40119b034079ca8428aa",
       "max": 10,
       "min": 0,
       "orientation": "horizontal",
       "readout": true,
       "readout_format": "d",
       "step": 1,
       "style": "IPY_MODEL_f280273165774a26997caedce2bdf963",
       "value": 1
      }
     },
     "8a62a15336994490833d55f551a8d09e": {
      "model_module": "@jupyter-widgets/base",
      "model_module_version": "1.2.0",
      "model_name": "LayoutModel",
      "state": {
       "_model_module": "@jupyter-widgets/base",
       "_model_module_version": "1.2.0",
       "_model_name": "LayoutModel",
       "_view_count": null,
       "_view_module": "@jupyter-widgets/base",
       "_view_module_version": "1.2.0",
       "_view_name": "LayoutView",
       "align_content": null,
       "align_items": null,
       "align_self": null,
       "border": null,
       "bottom": null,
       "display": null,
       "flex": null,
       "flex_flow": null,
       "grid_area": null,
       "grid_auto_columns": null,
       "grid_auto_flow": null,
       "grid_auto_rows": null,
       "grid_column": null,
       "grid_gap": null,
       "grid_row": null,
       "grid_template_areas": null,
       "grid_template_columns": null,
       "grid_template_rows": null,
       "height": null,
       "justify_content": null,
       "justify_items": null,
       "left": null,
       "margin": null,
       "max_height": null,
       "max_width": null,
       "min_height": null,
       "min_width": null,
       "object_fit": null,
       "object_position": null,
       "order": null,
       "overflow": null,
       "overflow_x": null,
       "overflow_y": null,
       "padding": null,
       "right": null,
       "top": null,
       "visibility": null,
       "width": null
      }
     },
     "8c8c2b68091841aabf75527ee96b32c5": {
      "model_module": "@jupyter-widgets/controls",
      "model_module_version": "1.5.0",
      "model_name": "FloatSliderModel",
      "state": {
       "_dom_classes": [],
       "_model_module": "@jupyter-widgets/controls",
       "_model_module_version": "1.5.0",
       "_model_name": "FloatSliderModel",
       "_view_count": null,
       "_view_module": "@jupyter-widgets/controls",
       "_view_module_version": "1.5.0",
       "_view_name": "FloatSliderView",
       "continuous_update": true,
       "description": "phi",
       "description_tooltip": null,
       "disabled": false,
       "layout": "IPY_MODEL_c512046c819d441db1b1ad8114d25810",
       "max": 6.293185307179586,
       "min": 0.0,
       "orientation": "horizontal",
       "readout": true,
       "readout_format": ".2f",
       "step": 0.01,
       "style": "IPY_MODEL_b142efd6e20b426eace691e4eed343fa",
       "value": 0.0
      }
     },
     "a1a25f4d768f4cf781aa7118ec6d0c85": {
      "model_module": "@jupyter-widgets/output",
      "model_module_version": "1.0.0",
      "model_name": "OutputModel",
      "state": {
       "_dom_classes": [],
       "_model_module": "@jupyter-widgets/output",
       "_model_module_version": "1.0.0",
       "_model_name": "OutputModel",
       "_view_count": null,
       "_view_module": "@jupyter-widgets/output",
       "_view_module_version": "1.0.0",
       "_view_name": "OutputView",
       "layout": "IPY_MODEL_26bbf3b97b7b41e3853673513a08f474",
       "msg_id": "",
       "outputs": []
      }
     },
     "ae01bf361ecd40119b034079ca8428aa": {
      "model_module": "@jupyter-widgets/base",
      "model_module_version": "1.2.0",
      "model_name": "LayoutModel",
      "state": {
       "_model_module": "@jupyter-widgets/base",
       "_model_module_version": "1.2.0",
       "_model_name": "LayoutModel",
       "_view_count": null,
       "_view_module": "@jupyter-widgets/base",
       "_view_module_version": "1.2.0",
       "_view_name": "LayoutView",
       "align_content": null,
       "align_items": null,
       "align_self": null,
       "border": null,
       "bottom": null,
       "display": null,
       "flex": null,
       "flex_flow": null,
       "grid_area": null,
       "grid_auto_columns": null,
       "grid_auto_flow": null,
       "grid_auto_rows": null,
       "grid_column": null,
       "grid_gap": null,
       "grid_row": null,
       "grid_template_areas": null,
       "grid_template_columns": null,
       "grid_template_rows": null,
       "height": null,
       "justify_content": null,
       "justify_items": null,
       "left": null,
       "margin": null,
       "max_height": null,
       "max_width": null,
       "min_height": null,
       "min_width": null,
       "object_fit": null,
       "object_position": null,
       "order": null,
       "overflow": null,
       "overflow_x": null,
       "overflow_y": null,
       "padding": null,
       "right": null,
       "top": null,
       "visibility": null,
       "width": null
      }
     },
     "b142efd6e20b426eace691e4eed343fa": {
      "model_module": "@jupyter-widgets/controls",
      "model_module_version": "1.5.0",
      "model_name": "SliderStyleModel",
      "state": {
       "_model_module": "@jupyter-widgets/controls",
       "_model_module_version": "1.5.0",
       "_model_name": "SliderStyleModel",
       "_view_count": null,
       "_view_module": "@jupyter-widgets/base",
       "_view_module_version": "1.2.0",
       "_view_name": "StyleView",
       "description_width": "",
       "handle_color": null
      }
     },
     "c33e1805df364338b159826564e1e562": {
      "model_module": "jupyter-matplotlib",
      "model_module_version": "^0.9.0",
      "model_name": "ToolbarModel",
      "state": {
       "_current_action": "",
       "_dom_classes": [],
       "_model_module": "jupyter-matplotlib",
       "_model_module_version": "^0.9.0",
       "_model_name": "ToolbarModel",
       "_view_count": null,
       "_view_module": "jupyter-matplotlib",
       "_view_module_version": "^0.9.0",
       "_view_name": "ToolbarView",
       "button_style": "",
       "collapsed": true,
       "layout": "IPY_MODEL_8a62a15336994490833d55f551a8d09e",
       "orientation": "vertical",
       "toolitems": [
        [
         "Home",
         "Reset original view",
         "home",
         "home"
        ],
        [
         "Back",
         "Back to previous view",
         "arrow-left",
         "back"
        ],
        [
         "Forward",
         "Forward to next view",
         "arrow-right",
         "forward"
        ],
        [
         "Pan",
         "Left button pans, Right button zooms\nx/y fixes axis, CTRL fixes aspect",
         "arrows",
         "pan"
        ],
        [
         "Zoom",
         "Zoom to rectangle\nx/y fixes axis, CTRL fixes aspect",
         "square-o",
         "zoom"
        ],
        [
         "Download",
         "Download plot",
         "floppy-o",
         "save_figure"
        ]
       ]
      }
     },
     "c477d5162f244cc7a9faa500f6aff1b5": {
      "model_module": "jupyter-matplotlib",
      "model_module_version": "^0.9.0",
      "model_name": "MPLCanvasModel",
      "state": {
       "_cursor": "pointer",
       "_dom_classes": [],
       "_figure_label": "Figure",
       "_height": 0,
       "_image_mode": "full",
       "_message": "",
       "_model_module": "jupyter-matplotlib",
       "_model_module_version": "^0.9.0",
       "_model_name": "MPLCanvasModel",
       "_rubberband_height": 0,
       "_rubberband_width": 0,
       "_rubberband_x": 0,
       "_rubberband_y": 0,
       "_view_count": null,
       "_view_module": "jupyter-matplotlib",
       "_view_module_version": "^0.9.0",
       "_view_name": "MPLCanvasView",
       "_width": 0,
       "capture_scroll": false,
       "footer_visible": true,
       "header_visible": true,
       "layout": "IPY_MODEL_f72b644d9a9d442f978d0df1957a290f",
       "resizable": true,
       "toolbar": "IPY_MODEL_c33e1805df364338b159826564e1e562",
       "toolbar_position": "left",
       "toolbar_visible": true
      }
     },
     "c512046c819d441db1b1ad8114d25810": {
      "model_module": "@jupyter-widgets/base",
      "model_module_version": "1.2.0",
      "model_name": "LayoutModel",
      "state": {
       "_model_module": "@jupyter-widgets/base",
       "_model_module_version": "1.2.0",
       "_model_name": "LayoutModel",
       "_view_count": null,
       "_view_module": "@jupyter-widgets/base",
       "_view_module_version": "1.2.0",
       "_view_name": "LayoutView",
       "align_content": null,
       "align_items": null,
       "align_self": null,
       "border": null,
       "bottom": null,
       "display": null,
       "flex": null,
       "flex_flow": null,
       "grid_area": null,
       "grid_auto_columns": null,
       "grid_auto_flow": null,
       "grid_auto_rows": null,
       "grid_column": null,
       "grid_gap": null,
       "grid_row": null,
       "grid_template_areas": null,
       "grid_template_columns": null,
       "grid_template_rows": null,
       "height": null,
       "justify_content": null,
       "justify_items": null,
       "left": null,
       "margin": null,
       "max_height": null,
       "max_width": null,
       "min_height": null,
       "min_width": null,
       "object_fit": null,
       "object_position": null,
       "order": null,
       "overflow": null,
       "overflow_x": null,
       "overflow_y": null,
       "padding": null,
       "right": null,
       "top": null,
       "visibility": null,
       "width": null
      }
     },
     "c60e8f9e1dc648ceb9ac4040b0fa247f": {
      "model_module": "@jupyter-widgets/base",
      "model_module_version": "1.2.0",
      "model_name": "LayoutModel",
      "state": {
       "_model_module": "@jupyter-widgets/base",
       "_model_module_version": "1.2.0",
       "_model_name": "LayoutModel",
       "_view_count": null,
       "_view_module": "@jupyter-widgets/base",
       "_view_module_version": "1.2.0",
       "_view_name": "LayoutView",
       "align_content": null,
       "align_items": null,
       "align_self": null,
       "border": null,
       "bottom": null,
       "display": null,
       "flex": null,
       "flex_flow": null,
       "grid_area": null,
       "grid_auto_columns": null,
       "grid_auto_flow": null,
       "grid_auto_rows": null,
       "grid_column": null,
       "grid_gap": null,
       "grid_row": null,
       "grid_template_areas": null,
       "grid_template_columns": null,
       "grid_template_rows": null,
       "height": null,
       "justify_content": null,
       "justify_items": null,
       "left": null,
       "margin": null,
       "max_height": null,
       "max_width": null,
       "min_height": null,
       "min_width": null,
       "object_fit": null,
       "object_position": null,
       "order": null,
       "overflow": null,
       "overflow_x": null,
       "overflow_y": null,
       "padding": null,
       "right": null,
       "top": null,
       "visibility": null,
       "width": null
      }
     },
     "cadcf32d23f547d8bf55f197db8d475a": {
      "model_module": "@jupyter-widgets/controls",
      "model_module_version": "1.5.0",
      "model_name": "VBoxModel",
      "state": {
       "_dom_classes": [
        "widget-interact"
       ],
       "_model_module": "@jupyter-widgets/controls",
       "_model_module_version": "1.5.0",
       "_model_name": "VBoxModel",
       "_view_count": null,
       "_view_module": "@jupyter-widgets/controls",
       "_view_module_version": "1.5.0",
       "_view_name": "VBoxView",
       "box_style": "",
       "children": [
        "IPY_MODEL_3879108a017d4bd4941d33a8c05fcf58",
        "IPY_MODEL_ef68f4abfa2a41de93d66ff49fa021c7",
        "IPY_MODEL_8c8c2b68091841aabf75527ee96b32c5",
        "IPY_MODEL_a1a25f4d768f4cf781aa7118ec6d0c85"
       ],
       "layout": "IPY_MODEL_c60e8f9e1dc648ceb9ac4040b0fa247f"
      }
     },
     "ee497b8b63a34586a85189064ed31065": {
      "model_module": "@jupyter-widgets/controls",
      "model_module_version": "1.5.0",
      "model_name": "SliderStyleModel",
      "state": {
       "_model_module": "@jupyter-widgets/controls",
       "_model_module_version": "1.5.0",
       "_model_name": "SliderStyleModel",
       "_view_count": null,
       "_view_module": "@jupyter-widgets/base",
       "_view_module_version": "1.2.0",
       "_view_name": "StyleView",
       "description_width": "",
       "handle_color": null
      }
     },
     "ef68f4abfa2a41de93d66ff49fa021c7": {
      "model_module": "@jupyter-widgets/controls",
      "model_module_version": "1.5.0",
      "model_name": "FloatSliderModel",
      "state": {
       "_dom_classes": [],
       "_model_module": "@jupyter-widgets/controls",
       "_model_module_version": "1.5.0",
       "_model_name": "FloatSliderModel",
       "_view_count": null,
       "_view_module": "@jupyter-widgets/controls",
       "_view_module_version": "1.5.0",
       "_view_name": "FloatSliderView",
       "continuous_update": true,
       "description": "amp",
       "description_tooltip": null,
       "disabled": false,
       "layout": "IPY_MODEL_258e2ef4a90c42bd89b8ef4385d67b75",
       "max": 4.0,
       "min": 0.0,
       "orientation": "horizontal",
       "readout": true,
       "readout_format": ".2f",
       "step": 0.1,
       "style": "IPY_MODEL_ee497b8b63a34586a85189064ed31065",
       "value": 1.0
      }
     },
     "f280273165774a26997caedce2bdf963": {
      "model_module": "@jupyter-widgets/controls",
      "model_module_version": "1.5.0",
      "model_name": "SliderStyleModel",
      "state": {
       "_model_module": "@jupyter-widgets/controls",
       "_model_module_version": "1.5.0",
       "_model_name": "SliderStyleModel",
       "_view_count": null,
       "_view_module": "@jupyter-widgets/base",
       "_view_module_version": "1.2.0",
       "_view_name": "StyleView",
       "description_width": "",
       "handle_color": null
      }
     },
     "f72b644d9a9d442f978d0df1957a290f": {
      "model_module": "@jupyter-widgets/base",
      "model_module_version": "1.2.0",
      "model_name": "LayoutModel",
      "state": {
       "_model_module": "@jupyter-widgets/base",
       "_model_module_version": "1.2.0",
       "_model_name": "LayoutModel",
       "_view_count": null,
       "_view_module": "@jupyter-widgets/base",
       "_view_module_version": "1.2.0",
       "_view_name": "LayoutView",
       "align_content": null,
       "align_items": null,
       "align_self": null,
       "border": null,
       "bottom": null,
       "display": null,
       "flex": null,
       "flex_flow": null,
       "grid_area": null,
       "grid_auto_columns": null,
       "grid_auto_flow": null,
       "grid_auto_rows": null,
       "grid_column": null,
       "grid_gap": null,
       "grid_row": null,
       "grid_template_areas": null,
       "grid_template_columns": null,
       "grid_template_rows": null,
       "height": null,
       "justify_content": null,
       "justify_items": null,
       "left": null,
       "margin": null,
       "max_height": null,
       "max_width": null,
       "min_height": null,
       "min_width": null,
       "object_fit": null,
       "object_position": null,
       "order": null,
       "overflow": null,
       "overflow_x": null,
       "overflow_y": null,
       "padding": null,
       "right": null,
       "top": null,
       "visibility": null,
       "width": null
      }
     }
    },
    "version_major": 2,
    "version_minor": 0
   }
  }
 },
 "nbformat": 4,
 "nbformat_minor": 5
}