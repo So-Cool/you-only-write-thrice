{
 "cells": [
  {
   "cell_type": "markdown",
   "id": "placed-sympathy",
   "metadata": {
    "collapsed": true,
    "jupyter": {
     "outputs_hidden": true,
     "source_hidden": true
    },
    "slideshow": {
     "slide_type": "skip"
    },
    "tags": [
     "purge-cell"
    ]
   },
   "source": [
    "(sec:problog:ipynb)="
   ]
  },
  {
   "cell_type": "markdown",
   "id": "promising-helena",
   "metadata": {
    "slideshow": {
     "slide_type": "slide"
    }
   },
   "source": [
    "# Bayesian Networks (Jupyter NB) #"
   ]
  },
  {
   "cell_type": "markdown",
   "id": "artistic-generic",
   "metadata": {
    "slideshow": {
     "slide_type": "skip"
    }
   },
   "source": [
    ":::{note}\n",
    "This page is based on the [*Bayesian networks*] ProbLog tutorial, which\n",
    "is executed from within Python using the [*ProbLog library*].\n",
    ":::\n",
    "\n",
    "[*Bayesian networks*]: https://dtai.cs.kuleuven.be/problog/tutorial/basic/02_bayes.html\n",
    "[*ProbLog library*]: https://dtai.cs.kuleuven.be/problog/tutorial/advanced/01_python_interface.html"
   ]
  },
  {
   "cell_type": "markdown",
   "id": "enabling-ontario",
   "metadata": {
    "collapsed": true,
    "jupyter": {
     "outputs_hidden": true,
     "source_hidden": true
    },
    "slideshow": {
     "slide_type": "skip"
    },
    "tags": [
     "purge-cell"
    ]
   },
   "source": [
    ":::{admonition} Content format\n",
    ":class: attention\n",
    "This page is written in the [*Jupyter Notebook*] format.\n",
    "The ProbLog content is executed directly from Python.\n",
    "Alternatively, see the [Markdown Notebook version][notebook] of the\n",
    "*Bayesian Networks* tutorial for an example of executing ProbLog code\n",
    "with [`ipywidgets`], or the [Percent Notebook version][percent] to see\n",
    "how ProbLog code can be executed with a bespoke\n",
    "[iPython cell magic command][magic].\n",
    "\n",
    "You can execute the code blocks enclosed below by launching this page as a\n",
    "Jupyter Notebook with MyBinder -- this option is available from the\n",
    "*Launch Menu* that appears after hovering the mouse cursor over the\n",
    "{fa}`rocket` icon shown in the top bar.\n",
    "You can also **enable the code cells** to work directly on this page with\n",
    "[Thebe] by activating {fa}`play`&nbsp;*Live Code* from the\n",
    "{fa}`rocket`&nbsp;*Launch Menu*.\n",
    "\n",
    "<!--https://sphinx-panels.readthedocs.io/en/latest/#link-badgeshttps://sphinx-panels.readthedocs.io/en/latest/#link-badges-->\n",
    "<!--{link-badge}`https://so-cool.github.io/you-only-write-thrice/slides/bayesian_networks-mnb.slides.html,Static Slides,link,badge-info badge-pill text-white`-->\n",
    "In addition to this book page and the corresponding Jupyter Notebook,\n",
    "*static* and *interactive* [reveal.js] slides are built from the page source.\n",
    "The static slides can be accessed with the [Static Slides (Jupyter NB)] link\n",
    "listed in the left panel (the table of content) or with this button\n",
    "[![View Slides][slides-badge]][slides-link].\n",
    "To launch the interactive version of the slides (with executable code boxes),\n",
    "you need to open this page as a Jupyter Notebook in Binder -- either via\n",
    "the {fa}`rocket`&nbsp;*Launch Menu* or using this button\n",
    "[![Open in Binder][binder-badge]][binder-link];\n",
    "then open [RISE] by clicking the {fa}`chart-bar` button located in the top bar\n",
    "of the Jupyter Notebook interface.\n",
    ":::\n",
    "\n",
    "[*Jupyter Notebook*]: https://jupyterbook.org/file-types/notebooks.html\n",
    "[`ipywidgets`]: https://ipywidgets.readthedocs.io/\n",
    "[notebook]: bayesian_networks-mnb\n",
    "[percent]: bayesian_networks-pnb\n",
    "[magic]: https://ipython.readthedocs.io/en/stable/interactive/magics.html#cell-magics\n",
    "[Thebe]: https://jupyterbook.org/interactive/launchbuttons.html#live-interactive-pages-with-thebelab\n",
    "[reveal.js]: https://github.com/hakimel/reveal.js/\n",
    "[Static Slides (Jupyter NB)]: https://so-cool.github.io/you-only-write-thrice/slides/bayesian_networks-jnb.slides.html\n",
    "[binder-badge]: https://mybinder.org/badge_logo.svg\n",
    "[binder-link]: https://mybinder.org/v2/gh/so-cool/you-only-write-thrice/master?urlpath=tree/src/text/bayesian_networks-jnb.ipynb\n",
    "[slides-badge]: https://img.shields.io/badge/view-slides-blue.svg\n",
    "[slides-link]: https://so-cool.github.io/you-only-write-thrice/slides/bayesian_networks-jnb.slides.html\n",
    "[RISE]: https://rise.readthedocs.io/en/stable/"
   ]
  },
  {
   "cell_type": "markdown",
   "id": "victorian-affairs",
   "metadata": {
    "collapsed": true,
    "jupyter": {
     "outputs_hidden": true,
     "source_hidden": true
    },
    "slideshow": {
     "slide_type": "subslide"
    },
    "tags": [
     "remove-cell",
     "purge-cell"
    ]
   },
   "source": [
    ":::{note}\n",
    "These slides are also available as a [book page][bp1], which explains how to\n",
    "launch them as a Jupyter Notebook or interactive slides.\n",
    ":::\n",
    "\n",
    "[bp1]: .."
   ]
  },
  {
   "cell_type": "markdown",
   "id": "crude-president",
   "metadata": {
    "collapsed": true,
    "jupyter": {
     "outputs_hidden": true,
     "source_hidden": true
    },
    "slideshow": {
     "slide_type": "skip"
    },
    "tags": [
     "remove-cell"
    ]
   },
   "source": [
    ":::{note}\n",
    "This Jupyter Notebook is also available as a [book page][bp2], which explains\n",
    "how to launch this content as *static* and *interactive* slides.\n",
    ":::\n",
    "\n",
    "[bp2]: .."
   ]
  },
  {
   "cell_type": "markdown",
   "id": "wrapped-agent",
   "metadata": {
    "collapsed": true,
    "jupyter": {
     "outputs_hidden": true,
     "source_hidden": true
    },
    "slideshow": {
     "slide_type": "skip"
    },
    "tags": [
     "purge-cell"
    ]
   },
   "source": [
    ":::{tip}\n",
    "This page includes a number of Python cells holding code needed to set up\n",
    "ProbLog ipywidgets.\n",
    "You can reveal their content by clicking the {fa}`plus-circle` buttons, which\n",
    "appear towards the right edge of this page.\n",
    ":::"
   ]
  },
  {
   "cell_type": "code",
   "execution_count": null,
   "id": "twenty-apollo",
   "metadata": {
    "slideshow": {
     "slide_type": "skip"
    },
    "tags": [
     "remove-cell"
    ]
   },
   "outputs": [],
   "source": [
    "# Install dependencies if in Colab\n",
    "try:\n",
    "    import google.colab\n",
    "    !pip install -r https://raw.githubusercontent.com/so-cool/you-only-write-thrice/master/requirements.txt\n",
    "except ImportError:\n",
    "    pass"
   ]
  },
  {
   "cell_type": "code",
   "execution_count": null,
   "id": "thirty-apollo",
   "metadata": {
    "slideshow": {
     "slide_type": "skip"
    },
    "tags": [
     "hide-input",
     "thebe-init"
    ]
   },
   "outputs": [],
   "source": [
    "import matplotlib.pyplot as plt\n",
    "\n",
    "from problog.program import PrologString\n",
    "from problog import get_evaluatable"
   ]
  },
  {
   "cell_type": "code",
   "execution_count": null,
   "id": "scientific-pencil",
   "metadata": {
    "slideshow": {
     "slide_type": "skip"
    },
    "tags": [
     "hide-input",
     "thebe-init"
    ]
   },
   "outputs": [],
   "source": [
    "def plot_outcome(pl_dict):\n",
    "    x = list(pl_dict.keys())\n",
    "    y = [pl_dict[key] for key in x]\n",
    "    x = [str(key) for key in x]\n",
    "    plt.barh(x, y, height=.5)\n",
    "    plt.xlim([0, 1.15])\n",
    "    plt.ylim([-.5, len(x) - .5])\n",
    "    for i, v in enumerate(y):\n",
    "        plt.text(v + .02, i + .0, '{:.2f}'.format(v), fontweight='bold')\n",
    "\n",
    "def evaluate_problog(programme):\n",
    "    p = PrologString(programme)\n",
    "    d = get_evaluatable().create_from(p).evaluate()\n",
    "    plot_outcome(d)"
   ]
  },
  {
   "cell_type": "markdown",
   "id": "diverse-corporation",
   "metadata": {
    "slideshow": {
     "slide_type": "subslide"
    }
   },
   "source": [
    "We illustrate the use of Bayesian networks in ProbLog using the famous [Earthquake] example.\n",
    "\n",
    "[Earthquake]: http://www.bnlearn.com/bnrepository/#earthquake"
   ]
  },
  {
   "cell_type": "markdown",
   "id": "happy-absence",
   "metadata": {
    "slideshow": {
     "slide_type": "fragment"
    }
   },
   "source": [
    "Suppose there is a burglary in our house with probability 0.7 and an earthquake with probability 0.2. Whether our alarm will ring depends on both burglary and earthquake:\n",
    "* if there is a burglary and an earthquake, the alarm rings with probability 0.9;\n",
    "* if there is only a burglary, it rings with probability 0.8;\n",
    "* if there is only an earthquake, it rings with probability 0.1;\n",
    "* if there is neither a burglary nor an earthquake, the alarm doesn't ring."
   ]
  },
  {
   "cell_type": "markdown",
   "id": "dying-symposium",
   "metadata": {
    "slideshow": {
     "slide_type": "subslide"
    }
   },
   "source": [
    "To model this as a Bayesian network, one would use three random variables, *burglary*, *earthquake* and *alarm*, with *burglary* and *earthquake* being parents of *alarm*. To model this in ProbLog, there are two possible solutions: using 'plain' ProbLog or using some synthactic sugar called probabilistic clauses and annotated disjunctions. We now explain both solutions.\n",
    "\n",
    "digraph alarm1 { burglary -> alarm; earthquake -> alarm; }  \n",
    "[ProbLog syntax documentation]\n",
    "\n",
    "[ProbLog syntax documentation]: https://problog.readthedocs.io/en/latest/modeling_basic.html#problog"
   ]
  },
  {
   "cell_type": "markdown",
   "id": "abroad-remove",
   "metadata": {
    "slideshow": {
     "slide_type": "slide"
    }
   },
   "source": [
    "## Probabilistic facts ##"
   ]
  },
  {
   "cell_type": "markdown",
   "id": "lasting-running",
   "metadata": {
    "slideshow": {
     "slide_type": "subslide"
    }
   },
   "source": [
    "In 'plain' ProbLog, we can encode the Bayesian network as follows.\n",
    "\n",
    "* Since *burglary* and *earthquake* are random variable without parents, we can simply encode them as probabilistic facts, with the proper probability.\n",
    "* To express the dependence of the random variable *alarm* on its parents *burglary* and *earthquake*, we use one Prolog rule for every possible state of the parents.\n",
    "  - The first rule covers the case in which *burglary* and *earthquake* are both true. The required rule is `alarm :- burglary, earthquake, p_alarm1`, with `p_alarm1` an auxiliary atom defined by means of the probabilistic fact `0.9::p_alarm1`. The point of adding this atom is to ensure that the probability of *alarm* in this case will be 0.9 as required.\n",
    "  - The second rule covers the case that *burglary* is true but *earthquake* is false. Note that *earthquake* being false is encoded using the \"\\+\" symbol for negation (as in regular Prolog).\n",
    "  - The third rule covers the case that *burglary* is false and *earthquake* is true.\n",
    "  - The fourth case (*burglary* and *earthquake* are both false) does not require a rule. This is because, according to our Bayesian network, the probability of *alarm* is 0 in this case."
   ]
  },
  {
   "cell_type": "markdown",
   "id": "opening-biography",
   "metadata": {
    "slideshow": {
     "slide_type": "subslide"
    }
   },
   "source": [
    "We obtain the following ProbLog program."
   ]
  },
  {
   "cell_type": "code",
   "execution_count": null,
   "id": "second-sussex",
   "metadata": {
    "slideshow": {
     "slide_type": ""
    },
    "tags": [
     "thebe-init"
    ]
   },
   "outputs": [],
   "source": [
    "probabilistic_facts = (\n",
    "\"\"\"0.7::burglary.\n",
    "0.2::earthquake.\n",
    "0.9::p_alarm1.\n",
    "0.8::p_alarm2.\n",
    "0.1::p_alarm3.\n",
    "\n",
    "alarm :- burglary, earthquake, p_alarm1.\n",
    "alarm :- burglary, \\+earthquake, p_alarm2.\n",
    "alarm :- \\+burglary, earthquake, p_alarm3.\n",
    "\n",
    "evidence(alarm,true).\n",
    "\n",
    "query(burglary).\n",
    "query(earthquake).\"\"\"\n",
    ")"
   ]
  },
  {
   "cell_type": "code",
   "execution_count": null,
   "id": "loving-inclusion",
   "metadata": {
    "slideshow": {
     "slide_type": "subslide"
    },
    "tags": [
     "thebe-init"
    ]
   },
   "outputs": [],
   "source": [
    "evaluate_problog(probabilistic_facts)"
   ]
  },
  {
   "cell_type": "markdown",
   "id": "careful-quilt",
   "metadata": {
    "slideshow": {
     "slide_type": ""
    }
   },
   "source": [
    "When pressing 'Evaluate', ProbLog2 calculates the probability of there being a *burglary* or an *earthquake*, given the evidence that the *alarm* rang. The resulting marginals are: $P(burglary)=0.9896$ and $P(earthquake)=0.2275$."
   ]
  },
  {
   "cell_type": "markdown",
   "id": "instructional-actor",
   "metadata": {
    "slideshow": {
     "slide_type": "slide"
    }
   },
   "source": [
    "## Probabilistic clauses ##"
   ]
  },
  {
   "cell_type": "markdown",
   "id": "local-breeding",
   "metadata": {
    "slideshow": {
     "slide_type": "subslide"
    }
   },
   "source": [
    "While the above is a correct encoding of the given Bayesian network, it is perhaps not very intuitive due to the auxiliary atoms. Fortunately, ProbLog2 offers some syntactic sugar called **probabilistic clauses** to encode this in a more readable way. Above, we encoded the information that the conditional probability of an *alarm* given a *burglary* and an *earthquake* equals 0.9 using the rule `alarm :- burglary, earthquake, p_alarm1`, plus the probabilistic fact `0.9::p_alarm1`. We can replace both with a single probabilistic clause of the form `0.9::alarm :- burglary, earthquake`. This should be read as: if *burglary* and *earthquake* are true, this causes *alarm* to become true with probability 0.9 if there is a *burglary* and an *earthquake*. As this example illustrates, a probabilistic clause has a body, just like regular ProbLog rules, and a head. The difference is that now, the head is annotated with a probability. By also using probabilistic clauses for the other rules in the ProbLog encoding of the Bayesian network, we get the following program."
   ]
  },
  {
   "cell_type": "code",
   "execution_count": null,
   "id": "bigger-flush",
   "metadata": {
    "slideshow": {
     "slide_type": "subslide"
    },
    "tags": [
     "thebe-init"
    ]
   },
   "outputs": [],
   "source": [
    "probabilistic_clauses = (\n",
    "\"\"\"0.7::burglary.\n",
    "0.2::earthquake.\n",
    "\n",
    "0.9::alarm :- burglary, earthquake.\n",
    "0.8::alarm :- burglary, \\+earthquake.\n",
    "0.1::alarm :- \\+burglary, earthquake.\n",
    "\n",
    "evidence(alarm,true).\n",
    "query(burglary).\n",
    "query(earthquake).\"\"\"\n",
    ")"
   ]
  },
  {
   "cell_type": "code",
   "execution_count": null,
   "id": "worth-ladder",
   "metadata": {
    "slideshow": {
     "slide_type": "subslide"
    },
    "tags": [
     "thebe-init"
    ]
   },
   "outputs": [],
   "source": [
    "evaluate_problog(probabilistic_clauses)"
   ]
  },
  {
   "cell_type": "markdown",
   "id": "white-retention",
   "metadata": {
    "slideshow": {
     "slide_type": ""
    }
   },
   "source": [
    "As you can verify by pressing 'Evaluate', this returns the same marginals as the 'plain' ProbLog encoding: $P(burglary)=0.9896$ and $P(earthquake)=0.2275$. This is not a coincidence: the two programs are equivalent (but the program with probabilistic clauses has the advantage of not needing any auxiliary atoms).\n",
    "\n",
    "[Probabilistic clauses documentation]\n",
    "\n",
    "[Probabilistic clauses documentation]: https://problog.readthedocs.io/en/latest/modeling_basic.html#probabilistic-clauses"
   ]
  },
  {
   "cell_type": "markdown",
   "id": "alien-termination",
   "metadata": {
    "slideshow": {
     "slide_type": "slide"
    }
   },
   "source": [
    "## First-order ##"
   ]
  },
  {
   "cell_type": "markdown",
   "id": "voluntary-poster",
   "metadata": {
    "slideshow": {
     "slide_type": "subslide"
    }
   },
   "source": [
    "To illustrate the use of *first-order* ProbLog programs, we show below a first-order extension of the *Alarm* example.\n",
    "\n",
    "digraph alarm2 { burglary -> alarm; earthquake -> alarm; alarm -> \"calls(john)\"; alarm -> \"calls(...)\"; alarm -> \"calls(mary)\"; }  \n",
    "Suppose there are $N$ people and each person independently *calls* the police with a certain probability, depending on the *alarm* ringing or not: if the *alarm* rings, the probability of *calling* is 0.8, otherwise it is 0.1. This can be modelled as follows. We again use probabilistic clauses and show the case $N=2$ (two people)."
   ]
  },
  {
   "cell_type": "code",
   "execution_count": null,
   "id": "respective-light",
   "metadata": {
    "slideshow": {
     "slide_type": "subslide"
    },
    "tags": [
     "thebe-init"
    ]
   },
   "outputs": [],
   "source": [
    "first_order = (\n",
    "\"\"\"person(john).\n",
    "person(mary).\n",
    "\n",
    "0.7::burglary.\n",
    "0.2::earthquake.\n",
    "\n",
    "0.9::alarm :- burglary, earthquake.\n",
    "0.8::alarm :- burglary, \\+earthquake.\n",
    "0.1::alarm :- \\+burglary, earthquake.\n",
    "\n",
    "0.8::calls(X) :- alarm, person(X).\n",
    "0.1::calls(X) :- \\+alarm, person(X).\n",
    "\n",
    "evidence(calls(john),true).\n",
    "evidence(calls(mary),true).\n",
    "\n",
    "query(burglary).\n",
    "query(earthquake).\"\"\"\n",
    ")"
   ]
  },
  {
   "cell_type": "code",
   "execution_count": null,
   "id": "tamil-fisher",
   "metadata": {
    "slideshow": {
     "slide_type": "subslide"
    },
    "tags": [
     "thebe-init"
    ]
   },
   "outputs": [],
   "source": [
    "evaluate_problog(first_order)"
   ]
  },
  {
   "cell_type": "markdown",
   "id": "musical-restriction",
   "metadata": {
    "slideshow": {
     "slide_type": ""
    }
   },
   "source": [
    "When pressing 'Evaluate', ProbLog2 calculates the probability of there being a *burglary* or an *earthquake*, given the evidence that both *john* and *mary* *called*. We obtain $P(burglary)=0.981939$ and $P(earthquake)=0.226851$."
   ]
  },
  {
   "cell_type": "markdown",
   "id": "geological-august",
   "metadata": {
    "slideshow": {
     "slide_type": "subslide"
    }
   },
   "source": [
    "In general, any Boolean Bayesian network can be modeled in ProbLog using the above methodology. This can also be extended to non-Boolean Bayesian networks (in which some variables can take more than two possible values), by using annotated disjunctions with multiple atoms in the head."
   ]
  },
  {
   "cell_type": "markdown",
   "id": "noble-remove",
   "metadata": {
    "slideshow": {
     "slide_type": "slide"
    }
   },
   "source": [
    "## Annotated disjunctions: Dealing with multi-valued variables ##"
   ]
  },
  {
   "cell_type": "markdown",
   "id": "heated-debate",
   "metadata": {
    "slideshow": {
     "slide_type": "subslide"
    }
   },
   "source": [
    "Since the random variables in the Bayesian network are all Boolean, we only need a single literal in the head of the rules. We can extend the Bayesian network to have a multi-valued variable by indicating the severity of the *earthquake*. The literal `earthquake` now has three possible values `none`, `mild`, `heavy` instead of previously two (no or yes). The probabilities of each value is denoted by the **annotated disjunction** in `0.01::earthquake(heavy); 0.19::earthquake(mild); 0.8::earthquake(none)`. An annotated disjunction is similar to a probabilistic disjunction, but with a different head. Instead of it being one atom annotated with a probability, it is now a disjunction of atoms each annotated with a probability."
   ]
  },
  {
   "cell_type": "code",
   "execution_count": null,
   "id": "considered-telescope",
   "metadata": {
    "slideshow": {
     "slide_type": "subslide"
    },
    "tags": [
     "thebe-init"
    ]
   },
   "outputs": [],
   "source": [
    "annotated_disjunctions = (\n",
    "\"\"\"person(john).\n",
    "person(mary).\n",
    "\n",
    "0.7::burglary.\n",
    "0.01::earthquake(heavy); 0.19::earthquake(mild); 0.8::earthquake(none).\n",
    "\n",
    "0.90::alarm :-   burglary, earthquake(heavy).\n",
    "0.85::alarm :-   burglary, earthquake(mild).\n",
    "0.80::alarm :-   burglary, earthquake(none).\n",
    "0.10::alarm :- \\+burglary, earthquake(mild).\n",
    "0.30::alarm :- \\+burglary, earthquake(heavy).\n",
    "\n",
    "0.8::calls(X) :- alarm, person(X).\n",
    "0.1::calls(X) :- \\+alarm, person(X).\n",
    "\n",
    "evidence(calls(john),true).\n",
    "evidence(calls(mary),true).\n",
    "\n",
    "query(burglary).\n",
    "query(earthquake(_)).\"\"\"\n",
    ")"
   ]
  },
  {
   "cell_type": "code",
   "execution_count": null,
   "id": "excessive-collective",
   "metadata": {
    "slideshow": {
     "slide_type": "subslide"
    },
    "tags": [
     "thebe-init"
    ]
   },
   "outputs": [],
   "source": [
    "evaluate_problog(annotated_disjunctions)"
   ]
  },
  {
   "cell_type": "markdown",
   "id": "functional-joint",
   "metadata": {
    "slideshow": {
     "slide_type": "subslide"
    }
   },
   "source": [
    "[Annotated disjunctions documentation]\n",
    "\n",
    "[Annotated disjunctions documentation]: https://problog.readthedocs.io/en/latest/modeling_basic.html#annotated-disjunctions"
   ]
  }
 ],
 "metadata": {
  "kernelspec": {
   "display_name": "Python 3",
   "language": "python",
   "name": "python3"
  },
  "rise": {
   "start_slideshow_at": "beginning"
  }
 },
 "nbformat": 4,
 "nbformat_minor": 5
}
